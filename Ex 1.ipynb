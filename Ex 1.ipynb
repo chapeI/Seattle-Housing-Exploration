{
 "cells": [
  {
   "cell_type": "code",
   "execution_count": 1,
   "metadata": {},
   "outputs": [],
   "source": [
    "import pandas as pd\n",
    "import numpy as np\n",
    "import matplotlib.pyplot as plt"
   ]
  },
  {
   "cell_type": "code",
   "execution_count": 65,
   "metadata": {},
   "outputs": [
    {
     "name": "stdout",
     "output_type": "stream",
     "text": [
      "          0         1\n",
      "0    6.1101  17.59200\n",
      "1    5.5277   9.13020\n",
      "2    8.5186  13.66200\n",
      "3    7.0032  11.85400\n",
      "4    5.8598   6.82330\n",
      "..      ...       ...\n",
      "92   5.8707   7.20290\n",
      "93   5.3054   1.98690\n",
      "94   8.2934   0.14454\n",
      "95  13.3940   9.05510\n",
      "96   5.4369   0.61705\n",
      "\n",
      "[97 rows x 2 columns]\n"
     ]
    }
   ],
   "source": [
    "df = pd.read_csv('ex1data1.txt', header = None)\n",
    "print(df)"
   ]
  },
  {
   "cell_type": "code",
   "execution_count": 6,
   "metadata": {},
   "outputs": [
    {
     "data": {
      "text/plain": [
       "0     17.59200\n",
       "1      9.13020\n",
       "2     13.66200\n",
       "3     11.85400\n",
       "4      6.82330\n",
       "        ...   \n",
       "92     7.20290\n",
       "93     1.98690\n",
       "94     0.14454\n",
       "95     9.05510\n",
       "96     0.61705\n",
       "Name: 1, Length: 97, dtype: float64"
      ]
     },
     "execution_count": 6,
     "metadata": {},
     "output_type": "execute_result"
    }
   ],
   "source": [
    "y = df.iloc[:, 1]\n",
    "y"
   ]
  },
  {
   "cell_type": "code",
   "execution_count": 7,
   "metadata": {},
   "outputs": [
    {
     "data": {
      "text/plain": [
       "array([17.592  ,  9.1302 , 13.662  , 11.854  ,  6.8233 , 11.886  ,\n",
       "        4.3483 , 12.     ,  6.5987 ,  3.8166 ,  3.2522 , 15.505  ,\n",
       "        3.1551 ,  7.2258 ,  0.71618,  3.5129 ,  5.3048 ,  0.56077,\n",
       "        3.6518 ,  5.3893 ,  3.1386 , 21.767  ,  4.263  ,  5.1875 ,\n",
       "        3.0825 , 22.638  , 13.501  ,  7.0467 , 14.692  , 24.147  ,\n",
       "       -1.22   ,  5.9966 , 12.134  ,  1.8495 ,  6.5426 ,  4.5623 ,\n",
       "        4.1164 ,  3.3928 , 10.117  ,  5.4974 ,  0.55657,  3.9115 ,\n",
       "        5.3854 ,  2.4406 ,  6.7318 ,  1.0463 ,  5.1337 ,  1.844  ,\n",
       "        8.0043 ,  1.0179 ,  6.7504 ,  1.8396 ,  4.2885 ,  4.9981 ,\n",
       "        1.4233 , -1.4211 ,  2.4756 ,  4.6042 ,  3.9624 ,  5.4141 ,\n",
       "        5.1694 , -0.74279, 17.929  , 12.054  , 17.054  ,  4.8852 ,\n",
       "        5.7442 ,  7.7754 ,  1.0173 , 20.992  ,  6.6799 ,  4.0259 ,\n",
       "        1.2784 ,  3.3411 , -2.6807 ,  0.29678,  3.8845 ,  5.7014 ,\n",
       "        6.7526 ,  2.0576 ,  0.47953,  0.20421,  0.67861,  7.5435 ,\n",
       "        5.3436 ,  4.2415 ,  6.7981 ,  0.92695,  0.152  ,  2.8214 ,\n",
       "        1.8451 ,  4.2959 ,  7.2029 ,  1.9869 ,  0.14454,  9.0551 ,\n",
       "        0.61705])"
      ]
     },
     "execution_count": 7,
     "metadata": {},
     "output_type": "execute_result"
    }
   ],
   "source": [
    "y = y.to_numpy()\n",
    "y"
   ]
  },
  {
   "cell_type": "code",
   "execution_count": 66,
   "metadata": {},
   "outputs": [
    {
     "data": {
      "text/html": [
       "<div>\n",
       "<style scoped>\n",
       "    .dataframe tbody tr th:only-of-type {\n",
       "        vertical-align: middle;\n",
       "    }\n",
       "\n",
       "    .dataframe tbody tr th {\n",
       "        vertical-align: top;\n",
       "    }\n",
       "\n",
       "    .dataframe thead th {\n",
       "        text-align: right;\n",
       "    }\n",
       "</style>\n",
       "<table border=\"1\" class=\"dataframe\">\n",
       "  <thead>\n",
       "    <tr style=\"text-align: right;\">\n",
       "      <th></th>\n",
       "      <th>0</th>\n",
       "    </tr>\n",
       "  </thead>\n",
       "  <tbody>\n",
       "    <tr>\n",
       "      <th>0</th>\n",
       "      <td>6.1101</td>\n",
       "    </tr>\n",
       "    <tr>\n",
       "      <th>1</th>\n",
       "      <td>5.5277</td>\n",
       "    </tr>\n",
       "    <tr>\n",
       "      <th>2</th>\n",
       "      <td>8.5186</td>\n",
       "    </tr>\n",
       "    <tr>\n",
       "      <th>3</th>\n",
       "      <td>7.0032</td>\n",
       "    </tr>\n",
       "    <tr>\n",
       "      <th>4</th>\n",
       "      <td>5.8598</td>\n",
       "    </tr>\n",
       "    <tr>\n",
       "      <th>...</th>\n",
       "      <td>...</td>\n",
       "    </tr>\n",
       "    <tr>\n",
       "      <th>92</th>\n",
       "      <td>5.8707</td>\n",
       "    </tr>\n",
       "    <tr>\n",
       "      <th>93</th>\n",
       "      <td>5.3054</td>\n",
       "    </tr>\n",
       "    <tr>\n",
       "      <th>94</th>\n",
       "      <td>8.2934</td>\n",
       "    </tr>\n",
       "    <tr>\n",
       "      <th>95</th>\n",
       "      <td>13.3940</td>\n",
       "    </tr>\n",
       "    <tr>\n",
       "      <th>96</th>\n",
       "      <td>5.4369</td>\n",
       "    </tr>\n",
       "  </tbody>\n",
       "</table>\n",
       "<p>97 rows × 1 columns</p>\n",
       "</div>"
      ],
      "text/plain": [
       "          0\n",
       "0    6.1101\n",
       "1    5.5277\n",
       "2    8.5186\n",
       "3    7.0032\n",
       "4    5.8598\n",
       "..      ...\n",
       "92   5.8707\n",
       "93   5.3054\n",
       "94   8.2934\n",
       "95  13.3940\n",
       "96   5.4369\n",
       "\n",
       "[97 rows x 1 columns]"
      ]
     },
     "execution_count": 66,
     "metadata": {},
     "output_type": "execute_result"
    }
   ],
   "source": [
    "X_ = df.iloc[:, 0:1]\n",
    "X_"
   ]
  },
  {
   "cell_type": "code",
   "execution_count": 67,
   "metadata": {},
   "outputs": [],
   "source": [
    "X_ = X_.to_numpy()"
   ]
  },
  {
   "cell_type": "code",
   "execution_count": 68,
   "metadata": {
    "scrolled": true
   },
   "outputs": [
    {
     "data": {
      "text/plain": [
       "<matplotlib.collections.PathCollection at 0x1fce2f6b580>"
      ]
     },
     "execution_count": 68,
     "metadata": {},
     "output_type": "execute_result"
    },
    {
     "data": {
      "image/png": "[encoded data removed]",
      "text/plain": [
       "<Figure size 432x288 with 1 Axes>"
      ]
     },
     "metadata": {
      "needs_background": "light"
     },
     "output_type": "display_data"
    }
   ],
   "source": [
    "plt.scatter(X_, y)"
   ]
  },
  {
   "cell_type": "code",
   "execution_count": 21,
   "metadata": {},
   "outputs": [
    {
     "data": {
      "text/plain": [
       "array([[ 1.    ,  6.1101],\n",
       "       [ 1.    ,  5.5277],\n",
       "       [ 1.    ,  8.5186],\n",
       "       [ 1.    ,  7.0032],\n",
       "       [ 1.    ,  5.8598],\n",
       "       [ 1.    ,  8.3829],\n",
       "       [ 1.    ,  7.4764],\n",
       "       [ 1.    ,  8.5781],\n",
       "       [ 1.    ,  6.4862],\n",
       "       [ 1.    ,  5.0546],\n",
       "       [ 1.    ,  5.7107],\n",
       "       [ 1.    , 14.164 ],\n",
       "       [ 1.    ,  5.734 ],\n",
       "       [ 1.    ,  8.4084],\n",
       "       [ 1.    ,  5.6407],\n",
       "       [ 1.    ,  5.3794],\n",
       "       [ 1.    ,  6.3654],\n",
       "       [ 1.    ,  5.1301],\n",
       "       [ 1.    ,  6.4296],\n",
       "       [ 1.    ,  7.0708],\n",
       "       [ 1.    ,  6.1891],\n",
       "       [ 1.    , 20.27  ],\n",
       "       [ 1.    ,  5.4901],\n",
       "       [ 1.    ,  6.3261],\n",
       "       [ 1.    ,  5.5649],\n",
       "       [ 1.    , 18.945 ],\n",
       "       [ 1.    , 12.828 ],\n",
       "       [ 1.    , 10.957 ],\n",
       "       [ 1.    , 13.176 ],\n",
       "       [ 1.    , 22.203 ],\n",
       "       [ 1.    ,  5.2524],\n",
       "       [ 1.    ,  6.5894],\n",
       "       [ 1.    ,  9.2482],\n",
       "       [ 1.    ,  5.8918],\n",
       "       [ 1.    ,  8.2111],\n",
       "       [ 1.    ,  7.9334],\n",
       "       [ 1.    ,  8.0959],\n",
       "       [ 1.    ,  5.6063],\n",
       "       [ 1.    , 12.836 ],\n",
       "       [ 1.    ,  6.3534],\n",
       "       [ 1.    ,  5.4069],\n",
       "       [ 1.    ,  6.8825],\n",
       "       [ 1.    , 11.708 ],\n",
       "       [ 1.    ,  5.7737],\n",
       "       [ 1.    ,  7.8247],\n",
       "       [ 1.    ,  7.0931],\n",
       "       [ 1.    ,  5.0702],\n",
       "       [ 1.    ,  5.8014],\n",
       "       [ 1.    , 11.7   ],\n",
       "       [ 1.    ,  5.5416],\n",
       "       [ 1.    ,  7.5402],\n",
       "       [ 1.    ,  5.3077],\n",
       "       [ 1.    ,  7.4239],\n",
       "       [ 1.    ,  7.6031],\n",
       "       [ 1.    ,  6.3328],\n",
       "       [ 1.    ,  6.3589],\n",
       "       [ 1.    ,  6.2742],\n",
       "       [ 1.    ,  5.6397],\n",
       "       [ 1.    ,  9.3102],\n",
       "       [ 1.    ,  9.4536],\n",
       "       [ 1.    ,  8.8254],\n",
       "       [ 1.    ,  5.1793],\n",
       "       [ 1.    , 21.279 ],\n",
       "       [ 1.    , 14.908 ],\n",
       "       [ 1.    , 18.959 ],\n",
       "       [ 1.    ,  7.2182],\n",
       "       [ 1.    ,  8.2951],\n",
       "       [ 1.    , 10.236 ],\n",
       "       [ 1.    ,  5.4994],\n",
       "       [ 1.    , 20.341 ],\n",
       "       [ 1.    , 10.136 ],\n",
       "       [ 1.    ,  7.3345],\n",
       "       [ 1.    ,  6.0062],\n",
       "       [ 1.    ,  7.2259],\n",
       "       [ 1.    ,  5.0269],\n",
       "       [ 1.    ,  6.5479],\n",
       "       [ 1.    ,  7.5386],\n",
       "       [ 1.    ,  5.0365],\n",
       "       [ 1.    , 10.274 ],\n",
       "       [ 1.    ,  5.1077],\n",
       "       [ 1.    ,  5.7292],\n",
       "       [ 1.    ,  5.1884],\n",
       "       [ 1.    ,  6.3557],\n",
       "       [ 1.    ,  9.7687],\n",
       "       [ 1.    ,  6.5159],\n",
       "       [ 1.    ,  8.5172],\n",
       "       [ 1.    ,  9.1802],\n",
       "       [ 1.    ,  6.002 ],\n",
       "       [ 1.    ,  5.5204],\n",
       "       [ 1.    ,  5.0594],\n",
       "       [ 1.    ,  5.7077],\n",
       "       [ 1.    ,  7.6366],\n",
       "       [ 1.    ,  5.8707],\n",
       "       [ 1.    ,  5.3054],\n",
       "       [ 1.    ,  8.2934],\n",
       "       [ 1.    , 13.394 ],\n",
       "       [ 1.    ,  5.4369]])"
      ]
     },
     "execution_count": 21,
     "metadata": {},
     "output_type": "execute_result"
    }
   ],
   "source": [
    "ones = np.ones(len(X_))\n",
    "X = np.column_stack((ones, X_))\n",
    "X"
   ]
  },
  {
   "cell_type": "code",
   "execution_count": 22,
   "metadata": {},
   "outputs": [],
   "source": [
    "def normal_equation(X, y):\n",
    "    return np.linalg.inv(X.T @ X) @ X.T @ y"
   ]
  },
  {
   "cell_type": "code",
   "execution_count": 23,
   "metadata": {},
   "outputs": [
    {
     "data": {
      "text/plain": [
       "array([-3.89578088,  1.19303364])"
      ]
     },
     "execution_count": 23,
     "metadata": {},
     "output_type": "execute_result"
    }
   ],
   "source": [
    "normal_equation(X, y)"
   ]
  },
  {
   "cell_type": "markdown",
   "metadata": {},
   "source": [
    "### debugging plot function"
   ]
  },
  {
   "cell_type": "code",
   "execution_count": 44,
   "metadata": {},
   "outputs": [
    {
     "data": {
      "text/plain": [
       "array([-10.,  -8.,  -6.,  -4.,  -2.,   0.,   2.,   4.,   6.,   8.,  10.])"
      ]
     },
     "execution_count": 44,
     "metadata": {},
     "output_type": "execute_result"
    }
   ],
   "source": [
    "steps0 = np.linspace(-10, 10, 11)\n",
    "steps0"
   ]
  },
  {
   "cell_type": "code",
   "execution_count": 45,
   "metadata": {},
   "outputs": [
    {
     "data": {
      "text/plain": [
       "array([-1. , -0.5,  0. ,  0.5,  1. ,  1.5,  2. ,  2.5,  3. ,  3.5,  4. ])"
      ]
     },
     "execution_count": 45,
     "metadata": {},
     "output_type": "execute_result"
    }
   ],
   "source": [
    "steps1 = np.linspace(-1, 4, 11)\n",
    "steps1"
   ]
  },
  {
   "cell_type": "code",
   "execution_count": 46,
   "metadata": {},
   "outputs": [
    {
     "data": {
      "text/plain": [
       "(11, 11)"
      ]
     },
     "execution_count": 46,
     "metadata": {},
     "output_type": "execute_result"
    }
   ],
   "source": [
    "w1, w2 = np.meshgrid(steps0, steps1)\n",
    "w1.shape"
   ]
  },
  {
   "cell_type": "code",
   "execution_count": 47,
   "metadata": {},
   "outputs": [
    {
     "data": {
      "text/plain": [
       "array([[-10.,  -8.,  -6.,  -4.,  -2.,   0.,   2.,   4.,   6.,   8.,  10.],\n",
       "       [-10.,  -8.,  -6.,  -4.,  -2.,   0.,   2.,   4.,   6.,   8.,  10.],\n",
       "       [-10.,  -8.,  -6.,  -4.,  -2.,   0.,   2.,   4.,   6.,   8.,  10.],\n",
       "       [-10.,  -8.,  -6.,  -4.,  -2.,   0.,   2.,   4.,   6.,   8.,  10.],\n",
       "       [-10.,  -8.,  -6.,  -4.,  -2.,   0.,   2.,   4.,   6.,   8.,  10.],\n",
       "       [-10.,  -8.,  -6.,  -4.,  -2.,   0.,   2.,   4.,   6.,   8.,  10.],\n",
       "       [-10.,  -8.,  -6.,  -4.,  -2.,   0.,   2.,   4.,   6.,   8.,  10.],\n",
       "       [-10.,  -8.,  -6.,  -4.,  -2.,   0.,   2.,   4.,   6.,   8.,  10.],\n",
       "       [-10.,  -8.,  -6.,  -4.,  -2.,   0.,   2.,   4.,   6.,   8.,  10.],\n",
       "       [-10.,  -8.,  -6.,  -4.,  -2.,   0.,   2.,   4.,   6.,   8.,  10.],\n",
       "       [-10.,  -8.,  -6.,  -4.,  -2.,   0.,   2.,   4.,   6.,   8.,  10.]])"
      ]
     },
     "execution_count": 47,
     "metadata": {},
     "output_type": "execute_result"
    }
   ],
   "source": [
    "w1"
   ]
  },
  {
   "cell_type": "code",
   "execution_count": 48,
   "metadata": {},
   "outputs": [
    {
     "data": {
      "text/plain": [
       "array([[-10. ,  -1. ],\n",
       "       [ -8. ,  -1. ],\n",
       "       [ -6. ,  -1. ],\n",
       "       [ -4. ,  -1. ],\n",
       "       [ -2. ,  -1. ],\n",
       "       [  0. ,  -1. ],\n",
       "       [  2. ,  -1. ],\n",
       "       [  4. ,  -1. ],\n",
       "       [  6. ,  -1. ],\n",
       "       [  8. ,  -1. ],\n",
       "       [ 10. ,  -1. ],\n",
       "       [-10. ,  -0.5],\n",
       "       [ -8. ,  -0.5],\n",
       "       [ -6. ,  -0.5],\n",
       "       [ -4. ,  -0.5],\n",
       "       [ -2. ,  -0.5],\n",
       "       [  0. ,  -0.5],\n",
       "       [  2. ,  -0.5],\n",
       "       [  4. ,  -0.5],\n",
       "       [  6. ,  -0.5],\n",
       "       [  8. ,  -0.5],\n",
       "       [ 10. ,  -0.5],\n",
       "       [-10. ,   0. ],\n",
       "       [ -8. ,   0. ],\n",
       "       [ -6. ,   0. ],\n",
       "       [ -4. ,   0. ],\n",
       "       [ -2. ,   0. ],\n",
       "       [  0. ,   0. ],\n",
       "       [  2. ,   0. ],\n",
       "       [  4. ,   0. ],\n",
       "       [  6. ,   0. ],\n",
       "       [  8. ,   0. ],\n",
       "       [ 10. ,   0. ],\n",
       "       [-10. ,   0.5],\n",
       "       [ -8. ,   0.5],\n",
       "       [ -6. ,   0.5],\n",
       "       [ -4. ,   0.5],\n",
       "       [ -2. ,   0.5],\n",
       "       [  0. ,   0.5],\n",
       "       [  2. ,   0.5],\n",
       "       [  4. ,   0.5],\n",
       "       [  6. ,   0.5],\n",
       "       [  8. ,   0.5],\n",
       "       [ 10. ,   0.5],\n",
       "       [-10. ,   1. ],\n",
       "       [ -8. ,   1. ],\n",
       "       [ -6. ,   1. ],\n",
       "       [ -4. ,   1. ],\n",
       "       [ -2. ,   1. ],\n",
       "       [  0. ,   1. ],\n",
       "       [  2. ,   1. ],\n",
       "       [  4. ,   1. ],\n",
       "       [  6. ,   1. ],\n",
       "       [  8. ,   1. ],\n",
       "       [ 10. ,   1. ],\n",
       "       [-10. ,   1.5],\n",
       "       [ -8. ,   1.5],\n",
       "       [ -6. ,   1.5],\n",
       "       [ -4. ,   1.5],\n",
       "       [ -2. ,   1.5],\n",
       "       [  0. ,   1.5],\n",
       "       [  2. ,   1.5],\n",
       "       [  4. ,   1.5],\n",
       "       [  6. ,   1.5],\n",
       "       [  8. ,   1.5],\n",
       "       [ 10. ,   1.5],\n",
       "       [-10. ,   2. ],\n",
       "       [ -8. ,   2. ],\n",
       "       [ -6. ,   2. ],\n",
       "       [ -4. ,   2. ],\n",
       "       [ -2. ,   2. ],\n",
       "       [  0. ,   2. ],\n",
       "       [  2. ,   2. ],\n",
       "       [  4. ,   2. ],\n",
       "       [  6. ,   2. ],\n",
       "       [  8. ,   2. ],\n",
       "       [ 10. ,   2. ],\n",
       "       [-10. ,   2.5],\n",
       "       [ -8. ,   2.5],\n",
       "       [ -6. ,   2.5],\n",
       "       [ -4. ,   2.5],\n",
       "       [ -2. ,   2.5],\n",
       "       [  0. ,   2.5],\n",
       "       [  2. ,   2.5],\n",
       "       [  4. ,   2.5],\n",
       "       [  6. ,   2.5],\n",
       "       [  8. ,   2.5],\n",
       "       [ 10. ,   2.5],\n",
       "       [-10. ,   3. ],\n",
       "       [ -8. ,   3. ],\n",
       "       [ -6. ,   3. ],\n",
       "       [ -4. ,   3. ],\n",
       "       [ -2. ,   3. ],\n",
       "       [  0. ,   3. ],\n",
       "       [  2. ,   3. ],\n",
       "       [  4. ,   3. ],\n",
       "       [  6. ,   3. ],\n",
       "       [  8. ,   3. ],\n",
       "       [ 10. ,   3. ],\n",
       "       [-10. ,   3.5],\n",
       "       [ -8. ,   3.5],\n",
       "       [ -6. ,   3.5],\n",
       "       [ -4. ,   3.5],\n",
       "       [ -2. ,   3.5],\n",
       "       [  0. ,   3.5],\n",
       "       [  2. ,   3.5],\n",
       "       [  4. ,   3.5],\n",
       "       [  6. ,   3.5],\n",
       "       [  8. ,   3.5],\n",
       "       [ 10. ,   3.5],\n",
       "       [-10. ,   4. ],\n",
       "       [ -8. ,   4. ],\n",
       "       [ -6. ,   4. ],\n",
       "       [ -4. ,   4. ],\n",
       "       [ -2. ,   4. ],\n",
       "       [  0. ,   4. ],\n",
       "       [  2. ,   4. ],\n",
       "       [  4. ,   4. ],\n",
       "       [  6. ,   4. ],\n",
       "       [  8. ,   4. ],\n",
       "       [ 10. ,   4. ]])"
      ]
     },
     "execution_count": 48,
     "metadata": {},
     "output_type": "execute_result"
    }
   ],
   "source": [
    "w1_ = w1.ravel()\n",
    "w2_ = w2.ravel()\n",
    "w = np.column_stack([w1_, w2_])\n",
    "w"
   ]
  },
  {
   "cell_type": "code",
   "execution_count": 50,
   "metadata": {},
   "outputs": [
    {
     "data": {
      "text/plain": [
       "(121, 2)"
      ]
     },
     "execution_count": 50,
     "metadata": {},
     "output_type": "execute_result"
    }
   ],
   "source": [
    "w.shape"
   ]
  },
  {
   "cell_type": "code",
   "execution_count": 51,
   "metadata": {},
   "outputs": [],
   "source": [
    "def calculateCostArray(X, y, i):\n",
    "    return computeCost(X, y, w[i])"
   ]
  },
  {
   "cell_type": "code",
   "execution_count": 69,
   "metadata": {},
   "outputs": [],
   "source": [
    "def computeCost(X, y, w):\n",
    "    t = X @ w - y\n",
    "    t_squared = t * t   # vectorized. element wise squaring\n",
    "    cost = 1/(2*len(X)) * sum(t_squared)\n",
    "    return cost"
   ]
  },
  {
   "cell_type": "code",
   "execution_count": 71,
   "metadata": {},
   "outputs": [
    {
     "data": {
      "text/plain": [
       "array([328.09290555, 282.09503545, 240.09716534, 202.09929524,\n",
       "       168.10142514, 138.10355503, 112.10568493,  90.10781483,\n",
       "        72.10994472,  58.11207462,  48.11420452, 224.10300212,\n",
       "       186.26493202, 152.42686191, 122.58879181,  96.75072171,\n",
       "        74.9126516 ,  57.0745815 ,  43.2365114 ,  33.39844129,\n",
       "        27.56037119,  25.72230109, 140.46408439, 110.78581429,\n",
       "        85.10754419,  63.42927408,  45.75100398,  32.07273388,\n",
       "        22.39446377,  16.71619367,  15.03792357,  17.35965347,\n",
       "        23.68138336,  77.17615237,  55.65768227,  38.13921217,\n",
       "        24.62074206,  15.10227196,   9.58380186,   8.06533175,\n",
       "        10.54686165,  17.02839155,  27.50992145,  41.99145134,\n",
       "        34.23920606,  20.88053596,  11.52186585,   6.16319575,\n",
       "         4.80452565,   7.44585554,  14.08718544,  24.72851534,\n",
       "        39.36984523,  58.01117513,  80.65250503,  11.65324545,\n",
       "         6.45437535,   5.25550524,   8.05663514,  14.85776504,\n",
       "        25.65889493,  40.46002483,  59.26115473,  82.06228462,\n",
       "       108.86341452, 139.66454442,   9.41827055,  12.37920044,\n",
       "        19.34013034,  30.30106024,  45.26199013,  64.22292003,\n",
       "        87.18384993, 114.14477982, 145.10570972, 180.06663962,\n",
       "       219.02756952,  27.53428135,  38.65501124,  53.77574114,\n",
       "        72.89647104,  96.01720094, 123.13793083, 154.25866073,\n",
       "       189.37939063, 228.50012052, 271.62085042, 318.74158032,\n",
       "        66.00127786,  85.28180775, 108.56233765, 135.84286755,\n",
       "       167.12339744, 202.40392734, 241.68445724, 284.96498713,\n",
       "       332.24551703, 383.52604693, 438.80657682, 124.81926007,\n",
       "       152.25958997, 183.69991986, 219.14024976, 258.58057966,\n",
       "       302.02090955, 349.46123945, 400.90156935, 456.34189924,\n",
       "       515.78222914, 579.22255904, 203.98822799, 239.58835788,\n",
       "       279.18848778, 322.78861768, 370.38874757, 421.98887747,\n",
       "       477.58900737, 537.18913727, 600.78926716, 668.38939706,\n",
       "       739.98952696])"
      ]
     },
     "execution_count": 71,
     "metadata": {},
     "output_type": "execute_result"
    }
   ],
   "source": [
    "costs = np.zeros(121)\n",
    "for i in range(121):\n",
    "    costs[i] = calculateCostArray(X, y, i)\n",
    "costs"
   ]
  },
  {
   "cell_type": "code",
   "execution_count": 72,
   "metadata": {},
   "outputs": [
    {
     "data": {
      "text/plain": [
       "array([[328.09290555, 282.09503545, 240.09716534, 202.09929524,\n",
       "        168.10142514, 138.10355503, 112.10568493,  90.10781483,\n",
       "         72.10994472,  58.11207462,  48.11420452],\n",
       "       [224.10300212, 186.26493202, 152.42686191, 122.58879181,\n",
       "         96.75072171,  74.9126516 ,  57.0745815 ,  43.2365114 ,\n",
       "         33.39844129,  27.56037119,  25.72230109],\n",
       "       [140.46408439, 110.78581429,  85.10754419,  63.42927408,\n",
       "         45.75100398,  32.07273388,  22.39446377,  16.71619367,\n",
       "         15.03792357,  17.35965347,  23.68138336],\n",
       "       [ 77.17615237,  55.65768227,  38.13921217,  24.62074206,\n",
       "         15.10227196,   9.58380186,   8.06533175,  10.54686165,\n",
       "         17.02839155,  27.50992145,  41.99145134],\n",
       "       [ 34.23920606,  20.88053596,  11.52186585,   6.16319575,\n",
       "          4.80452565,   7.44585554,  14.08718544,  24.72851534,\n",
       "         39.36984523,  58.01117513,  80.65250503],\n",
       "       [ 11.65324545,   6.45437535,   5.25550524,   8.05663514,\n",
       "         14.85776504,  25.65889493,  40.46002483,  59.26115473,\n",
       "         82.06228462, 108.86341452, 139.66454442],\n",
       "       [  9.41827055,  12.37920044,  19.34013034,  30.30106024,\n",
       "         45.26199013,  64.22292003,  87.18384993, 114.14477982,\n",
       "        145.10570972, 180.06663962, 219.02756952],\n",
       "       [ 27.53428135,  38.65501124,  53.77574114,  72.89647104,\n",
       "         96.01720094, 123.13793083, 154.25866073, 189.37939063,\n",
       "        228.50012052, 271.62085042, 318.74158032],\n",
       "       [ 66.00127786,  85.28180775, 108.56233765, 135.84286755,\n",
       "        167.12339744, 202.40392734, 241.68445724, 284.96498713,\n",
       "        332.24551703, 383.52604693, 438.80657682],\n",
       "       [124.81926007, 152.25958997, 183.69991986, 219.14024976,\n",
       "        258.58057966, 302.02090955, 349.46123945, 400.90156935,\n",
       "        456.34189924, 515.78222914, 579.22255904],\n",
       "       [203.98822799, 239.58835788, 279.18848778, 322.78861768,\n",
       "        370.38874757, 421.98887747, 477.58900737, 537.18913727,\n",
       "        600.78926716, 668.38939706, 739.98952696]])"
      ]
     },
     "execution_count": 72,
     "metadata": {},
     "output_type": "execute_result"
    }
   ],
   "source": [
    "costs = costs.reshape(11, 11, -1)\n",
    "costs = costs.squeeze()\n",
    "costs"
   ]
  },
  {
   "cell_type": "code",
   "execution_count": 73,
   "metadata": {},
   "outputs": [
    {
     "data": {
      "text/plain": [
       "(11, 11)"
      ]
     },
     "execution_count": 73,
     "metadata": {},
     "output_type": "execute_result"
    }
   ],
   "source": [
    "costs.shape"
   ]
  },
  {
   "cell_type": "code",
   "execution_count": 74,
   "metadata": {},
   "outputs": [
    {
     "data": {
      "text/plain": [
       "<matplotlib.contour.QuadContourSet at 0x1fce3fa0130>"
      ]
     },
     "execution_count": 74,
     "metadata": {},
     "output_type": "execute_result"
    },
    {
     "data": {
      "image/png": "[encoded data removed]",
      "text/plain": [
       "<Figure size 432x288 with 1 Axes>"
      ]
     },
     "metadata": {
      "needs_background": "light"
     },
     "output_type": "display_data"
    }
   ],
   "source": [
    "plt.imshow(costs, extent=(w1.min(), w1.max(), w2.min(), w2.max()))\n",
    "plt.gca().set_aspect('equal')\n",
    "plt.contour(w1, w2, costs, colors='white', linestyles=':')"
   ]
  },
  {
   "cell_type": "code",
   "execution_count": 75,
   "metadata": {},
   "outputs": [
    {
     "data": {
      "text/plain": [
       "<matplotlib.contour.QuadContourSet at 0x1fce4003ac0>"
      ]
     },
     "execution_count": 75,
     "metadata": {},
     "output_type": "execute_result"
    },
    {
     "data": {
      "image/png": "[encoded data removed]",
      "text/plain": [
       "<Figure size 432x288 with 1 Axes>"
      ]
     },
     "metadata": {
      "needs_background": "light"
     },
     "output_type": "display_data"
    }
   ],
   "source": [
    "plt.imshow(costs, origin='lower', extent=(w1.min(), w1.max(), w2.min(), w2.max()))\n",
    "plt.gca().set_aspect('equal')\n",
    "plt.contour(w1, w2, costs, colors='white', linestyles=':')"
   ]
  },
  {
   "cell_type": "markdown",
   "metadata": {},
   "source": [
    "##### correct sequence of functions to get the code working how I want"
   ]
  },
  {
   "cell_type": "code",
   "execution_count": null,
   "metadata": {},
   "outputs": [],
   "source": [
    "def calculateCostArray(X, y, i):\n",
    "    return computeCost(X, y, w[i])"
   ]
  },
  {
   "cell_type": "code",
   "execution_count": null,
   "metadata": {},
   "outputs": [],
   "source": [
    "def computeCost(X, y, w):\n",
    "    t = X @ w - y\n",
    "    t_squared = t * t   # vectorized. element wise squaring\n",
    "    cost = 1/(2*len(X)) * sum(t_squared)\n",
    "    return cost"
   ]
  },
  {
   "cell_type": "code",
   "execution_count": 63,
   "metadata": {},
   "outputs": [
    {
     "data": {
      "image/png": "[encoded data removed]",
      "text/plain": [
       "<Figure size 432x288 with 1 Axes>"
      ]
     },
     "metadata": {
      "needs_background": "light"
     },
     "output_type": "display_data"
    }
   ],
   "source": [
    "def plot():\n",
    "    steps0 = np.linspace(-10, 10, 11)\n",
    "    steps1 = np.linspace(-3, 8, 11)\n",
    "    w1, w2 = np.meshgrid(steps0, steps1)\n",
    "    w1_ = w1.ravel()\n",
    "    w2_ = w2.ravel()\n",
    "    w = np.column_stack([w1_, w2_])\n",
    "    costs = np.zeros(121)\n",
    "\n",
    "    for i in range(121):\n",
    "        costs[i] = calculateCostArray(X, y, i)\n",
    "\n",
    "    costs = costs.reshape(11, 11, -1)\n",
    "    costs = costs.squeeze()\n",
    "\n",
    "    plt.imshow(costs, extent=(w1.min(), w1.max(), w2.min(), w2.max()))\n",
    "    plt.gca().set_aspect('equal')\n",
    "    plt.contour(w1, w2, costs, colors='white', linestyles=':')\n",
    "    \n",
    "plot()"
   ]
  },
  {
   "cell_type": "markdown",
   "metadata": {},
   "source": [
    "##### writing for Seattle Housing Exploration. code won't work for this project"
   ]
  },
  {
   "cell_type": "code",
   "execution_count": null,
   "metadata": {},
   "outputs": [],
   "source": [
    "def computeCost(X, y, w):\n",
    "    t = X @ w - y\n",
    "    t_squared = t * t   # vectorized. element wise squaring\n",
    "    cost = 1/(2*len(X)) * sum(t_squared)\n",
    "    return cost"
   ]
  },
  {
   "cell_type": "code",
   "execution_count": null,
   "metadata": {},
   "outputs": [],
   "source": [
    "def calculateCostArray(X, y, i):\n",
    "    return computeCost(X, y, w[i])"
   ]
  },
  {
   "cell_type": "code",
   "execution_count": null,
   "metadata": {},
   "outputs": [],
   "source": [
    "def plot():\n",
    "    steps = np.linspace(-2, 2, 11)\n",
    "    w0, w1 = np.meshgrid(steps, steps)\n",
    "    w0_ = w0.ravel()\n",
    "    w1_ = w1.ravel()\n",
    "    w = np.column_stack([w0_, w1_])\n",
    "    \n",
    "    def calculateCostArray(X, y, i):\n",
    "        return computeCost(X, y, w[i])\n",
    "    \n",
    "    def computeCost(X, y, w):\n",
    "        t = X @ w - y\n",
    "        t_squared = t * t   # vectorized. element wise squaring\n",
    "        cost = 1/(2*len(X)) * sum(t_squared)\n",
    "        return cost\n",
    "    \n",
    "    costs = np.zeros(121)\n",
    "    for i in range(121):\n",
    "        costs[i] = calculateCostArray(X_scaled_with_ones_col, y_scaled, i)\n",
    "    \n",
    "    costs = costs.reshape(11, 11, -1)\n",
    "    costs = costs.squeeze()\n",
    "    \n",
    "    plt.imshow(costs, origin='lower', extent=(w0.min(), w0.max(), w1.min(), w1.max()))\n",
    "\n",
    "    #     sugar\n",
    "    plt.colorbar()\n",
    "    plt.xlabel('$w_0$')\n",
    "    plt.ylabel('$w_1$')\n",
    "    plt.title('Plot of $cost(\\\\mathbf{w})$')\n",
    "    # plt.gca().set_aspect('equal')  # Force the x and y axes to scale\n",
    "\n",
    "    plt.contour(w0, w1, costs, colors='white', linestyles=':')"
   ]
  }
 ],
 "metadata": {
  "kernelspec": {
   "display_name": "Python 3",
   "language": "python",
   "name": "python3"
  },
  "language_info": {
   "codemirror_mode": {
    "name": "ipython",
    "version": 3
   },
   "file_extension": ".py",
   "mimetype": "text/x-python",
   "name": "python",
   "nbconvert_exporter": "python",
   "pygments_lexer": "ipython3",
   "version": "3.8.3"
  }
 },
 "nbformat": 4,
 "nbformat_minor": 4
}
