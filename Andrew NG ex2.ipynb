{
 "cells": [
  {
   "cell_type": "code",
   "execution_count": 97,
   "metadata": {},
   "outputs": [],
   "source": [
    "import pandas as pd\n",
    "import numpy as np\n",
    "import matplotlib.pyplot as plt"
   ]
  },
  {
   "cell_type": "code",
   "execution_count": 308,
   "metadata": {},
   "outputs": [
    {
     "name": "stdout",
     "output_type": "stream",
     "text": [
      "       0  1       2\n",
      "0   2104  3  399900\n",
      "1   1600  3  329900\n",
      "2   2400  3  369000\n",
      "3   1416  2  232000\n",
      "4   3000  4  539900\n",
      "5   1985  4  299900\n",
      "6   1534  3  314900\n",
      "7   1427  3  198999\n",
      "8   1380  3  212000\n",
      "9   1494  3  242500\n",
      "10  1940  4  239999\n",
      "11  2000  3  347000\n",
      "12  1890  3  329999\n",
      "13  4478  5  699900\n",
      "14  1268  3  259900\n",
      "15  2300  4  449900\n",
      "16  1320  2  299900\n",
      "17  1236  3  199900\n",
      "18  2609  4  499998\n",
      "19  3031  4  599000\n",
      "20  1767  3  252900\n",
      "21  1888  2  255000\n",
      "22  1604  3  242900\n",
      "23  1962  4  259900\n",
      "24  3890  3  573900\n",
      "25  1100  3  249900\n",
      "26  1458  3  464500\n",
      "27  2526  3  469000\n",
      "28  2200  3  475000\n",
      "29  2637  3  299900\n",
      "30  1839  2  349900\n",
      "31  1000  1  169900\n",
      "32  2040  4  314900\n",
      "33  3137  3  579900\n",
      "34  1811  4  285900\n",
      "35  1437  3  249900\n",
      "36  1239  3  229900\n",
      "37  2132  4  345000\n",
      "38  4215  4  549000\n",
      "39  2162  4  287000\n",
      "40  1664  2  368500\n",
      "41  2238  3  329900\n",
      "42  2567  4  314000\n",
      "43  1200  3  299000\n",
      "44   852  2  179900\n",
      "45  1852  4  299900\n",
      "46  1203  3  239500\n"
     ]
    }
   ],
   "source": [
    "df = pd.read_csv('ex1data2.txt', header = None)\n",
    "print(df)"
   ]
  },
  {
   "cell_type": "code",
   "execution_count": 41,
   "metadata": {},
   "outputs": [
    {
     "data": {
      "text/plain": [
       "0     399900\n",
       "1     329900\n",
       "2     369000\n",
       "3     232000\n",
       "4     539900\n",
       "5     299900\n",
       "6     314900\n",
       "7     198999\n",
       "8     212000\n",
       "9     242500\n",
       "10    239999\n",
       "11    347000\n",
       "12    329999\n",
       "13    699900\n",
       "14    259900\n",
       "15    449900\n",
       "16    299900\n",
       "17    199900\n",
       "18    499998\n",
       "19    599000\n",
       "20    252900\n",
       "21    255000\n",
       "22    242900\n",
       "23    259900\n",
       "24    573900\n",
       "25    249900\n",
       "26    464500\n",
       "27    469000\n",
       "28    475000\n",
       "29    299900\n",
       "30    349900\n",
       "31    169900\n",
       "32    314900\n",
       "33    579900\n",
       "34    285900\n",
       "35    249900\n",
       "36    229900\n",
       "37    345000\n",
       "38    549000\n",
       "39    287000\n",
       "40    368500\n",
       "41    329900\n",
       "42    314000\n",
       "43    299000\n",
       "44    179900\n",
       "45    299900\n",
       "46    239500\n",
       "Name: 2, dtype: int64"
      ]
     },
     "execution_count": 41,
     "metadata": {},
     "output_type": "execute_result"
    }
   ],
   "source": [
    "y = df.iloc[:, 2]\n",
    "y"
   ]
  },
  {
   "cell_type": "code",
   "execution_count": 43,
   "metadata": {},
   "outputs": [
    {
     "data": {
      "text/plain": [
       "(47,)"
      ]
     },
     "execution_count": 43,
     "metadata": {},
     "output_type": "execute_result"
    }
   ],
   "source": [
    "y.shape"
   ]
  },
  {
   "cell_type": "code",
   "execution_count": 42,
   "metadata": {},
   "outputs": [
    {
     "data": {
      "text/plain": [
       "array([399900, 329900, 369000, 232000, 539900, 299900, 314900, 198999,\n",
       "       212000, 242500, 239999, 347000, 329999, 699900, 259900, 449900,\n",
       "       299900, 199900, 499998, 599000, 252900, 255000, 242900, 259900,\n",
       "       573900, 249900, 464500, 469000, 475000, 299900, 349900, 169900,\n",
       "       314900, 579900, 285900, 249900, 229900, 345000, 549000, 287000,\n",
       "       368500, 329900, 314000, 299000, 179900, 299900, 239500],\n",
       "      dtype=int64)"
      ]
     },
     "execution_count": 42,
     "metadata": {},
     "output_type": "execute_result"
    }
   ],
   "source": [
    "y = y.to_numpy()\n",
    "y"
   ]
  },
  {
   "cell_type": "code",
   "execution_count": 123,
   "metadata": {},
   "outputs": [
    {
     "data": {
      "text/html": [
       "<div>\n",
       "<style scoped>\n",
       "    .dataframe tbody tr th:only-of-type {\n",
       "        vertical-align: middle;\n",
       "    }\n",
       "\n",
       "    .dataframe tbody tr th {\n",
       "        vertical-align: top;\n",
       "    }\n",
       "\n",
       "    .dataframe thead th {\n",
       "        text-align: right;\n",
       "    }\n",
       "</style>\n",
       "<table border=\"1\" class=\"dataframe\">\n",
       "  <thead>\n",
       "    <tr style=\"text-align: right;\">\n",
       "      <th></th>\n",
       "      <th>0</th>\n",
       "      <th>1</th>\n",
       "    </tr>\n",
       "  </thead>\n",
       "  <tbody>\n",
       "    <tr>\n",
       "      <th>0</th>\n",
       "      <td>2104</td>\n",
       "      <td>3</td>\n",
       "    </tr>\n",
       "    <tr>\n",
       "      <th>1</th>\n",
       "      <td>1600</td>\n",
       "      <td>3</td>\n",
       "    </tr>\n",
       "    <tr>\n",
       "      <th>2</th>\n",
       "      <td>2400</td>\n",
       "      <td>3</td>\n",
       "    </tr>\n",
       "    <tr>\n",
       "      <th>3</th>\n",
       "      <td>1416</td>\n",
       "      <td>2</td>\n",
       "    </tr>\n",
       "    <tr>\n",
       "      <th>4</th>\n",
       "      <td>3000</td>\n",
       "      <td>4</td>\n",
       "    </tr>\n",
       "    <tr>\n",
       "      <th>5</th>\n",
       "      <td>1985</td>\n",
       "      <td>4</td>\n",
       "    </tr>\n",
       "    <tr>\n",
       "      <th>6</th>\n",
       "      <td>1534</td>\n",
       "      <td>3</td>\n",
       "    </tr>\n",
       "    <tr>\n",
       "      <th>7</th>\n",
       "      <td>1427</td>\n",
       "      <td>3</td>\n",
       "    </tr>\n",
       "    <tr>\n",
       "      <th>8</th>\n",
       "      <td>1380</td>\n",
       "      <td>3</td>\n",
       "    </tr>\n",
       "    <tr>\n",
       "      <th>9</th>\n",
       "      <td>1494</td>\n",
       "      <td>3</td>\n",
       "    </tr>\n",
       "    <tr>\n",
       "      <th>10</th>\n",
       "      <td>1940</td>\n",
       "      <td>4</td>\n",
       "    </tr>\n",
       "    <tr>\n",
       "      <th>11</th>\n",
       "      <td>2000</td>\n",
       "      <td>3</td>\n",
       "    </tr>\n",
       "    <tr>\n",
       "      <th>12</th>\n",
       "      <td>1890</td>\n",
       "      <td>3</td>\n",
       "    </tr>\n",
       "    <tr>\n",
       "      <th>13</th>\n",
       "      <td>4478</td>\n",
       "      <td>5</td>\n",
       "    </tr>\n",
       "    <tr>\n",
       "      <th>14</th>\n",
       "      <td>1268</td>\n",
       "      <td>3</td>\n",
       "    </tr>\n",
       "    <tr>\n",
       "      <th>15</th>\n",
       "      <td>2300</td>\n",
       "      <td>4</td>\n",
       "    </tr>\n",
       "    <tr>\n",
       "      <th>16</th>\n",
       "      <td>1320</td>\n",
       "      <td>2</td>\n",
       "    </tr>\n",
       "    <tr>\n",
       "      <th>17</th>\n",
       "      <td>1236</td>\n",
       "      <td>3</td>\n",
       "    </tr>\n",
       "    <tr>\n",
       "      <th>18</th>\n",
       "      <td>2609</td>\n",
       "      <td>4</td>\n",
       "    </tr>\n",
       "    <tr>\n",
       "      <th>19</th>\n",
       "      <td>3031</td>\n",
       "      <td>4</td>\n",
       "    </tr>\n",
       "    <tr>\n",
       "      <th>20</th>\n",
       "      <td>1767</td>\n",
       "      <td>3</td>\n",
       "    </tr>\n",
       "    <tr>\n",
       "      <th>21</th>\n",
       "      <td>1888</td>\n",
       "      <td>2</td>\n",
       "    </tr>\n",
       "    <tr>\n",
       "      <th>22</th>\n",
       "      <td>1604</td>\n",
       "      <td>3</td>\n",
       "    </tr>\n",
       "    <tr>\n",
       "      <th>23</th>\n",
       "      <td>1962</td>\n",
       "      <td>4</td>\n",
       "    </tr>\n",
       "    <tr>\n",
       "      <th>24</th>\n",
       "      <td>3890</td>\n",
       "      <td>3</td>\n",
       "    </tr>\n",
       "    <tr>\n",
       "      <th>25</th>\n",
       "      <td>1100</td>\n",
       "      <td>3</td>\n",
       "    </tr>\n",
       "    <tr>\n",
       "      <th>26</th>\n",
       "      <td>1458</td>\n",
       "      <td>3</td>\n",
       "    </tr>\n",
       "    <tr>\n",
       "      <th>27</th>\n",
       "      <td>2526</td>\n",
       "      <td>3</td>\n",
       "    </tr>\n",
       "    <tr>\n",
       "      <th>28</th>\n",
       "      <td>2200</td>\n",
       "      <td>3</td>\n",
       "    </tr>\n",
       "    <tr>\n",
       "      <th>29</th>\n",
       "      <td>2637</td>\n",
       "      <td>3</td>\n",
       "    </tr>\n",
       "    <tr>\n",
       "      <th>30</th>\n",
       "      <td>1839</td>\n",
       "      <td>2</td>\n",
       "    </tr>\n",
       "    <tr>\n",
       "      <th>31</th>\n",
       "      <td>1000</td>\n",
       "      <td>1</td>\n",
       "    </tr>\n",
       "    <tr>\n",
       "      <th>32</th>\n",
       "      <td>2040</td>\n",
       "      <td>4</td>\n",
       "    </tr>\n",
       "    <tr>\n",
       "      <th>33</th>\n",
       "      <td>3137</td>\n",
       "      <td>3</td>\n",
       "    </tr>\n",
       "    <tr>\n",
       "      <th>34</th>\n",
       "      <td>1811</td>\n",
       "      <td>4</td>\n",
       "    </tr>\n",
       "    <tr>\n",
       "      <th>35</th>\n",
       "      <td>1437</td>\n",
       "      <td>3</td>\n",
       "    </tr>\n",
       "    <tr>\n",
       "      <th>36</th>\n",
       "      <td>1239</td>\n",
       "      <td>3</td>\n",
       "    </tr>\n",
       "    <tr>\n",
       "      <th>37</th>\n",
       "      <td>2132</td>\n",
       "      <td>4</td>\n",
       "    </tr>\n",
       "    <tr>\n",
       "      <th>38</th>\n",
       "      <td>4215</td>\n",
       "      <td>4</td>\n",
       "    </tr>\n",
       "    <tr>\n",
       "      <th>39</th>\n",
       "      <td>2162</td>\n",
       "      <td>4</td>\n",
       "    </tr>\n",
       "    <tr>\n",
       "      <th>40</th>\n",
       "      <td>1664</td>\n",
       "      <td>2</td>\n",
       "    </tr>\n",
       "    <tr>\n",
       "      <th>41</th>\n",
       "      <td>2238</td>\n",
       "      <td>3</td>\n",
       "    </tr>\n",
       "    <tr>\n",
       "      <th>42</th>\n",
       "      <td>2567</td>\n",
       "      <td>4</td>\n",
       "    </tr>\n",
       "    <tr>\n",
       "      <th>43</th>\n",
       "      <td>1200</td>\n",
       "      <td>3</td>\n",
       "    </tr>\n",
       "    <tr>\n",
       "      <th>44</th>\n",
       "      <td>852</td>\n",
       "      <td>2</td>\n",
       "    </tr>\n",
       "    <tr>\n",
       "      <th>45</th>\n",
       "      <td>1852</td>\n",
       "      <td>4</td>\n",
       "    </tr>\n",
       "    <tr>\n",
       "      <th>46</th>\n",
       "      <td>1203</td>\n",
       "      <td>3</td>\n",
       "    </tr>\n",
       "  </tbody>\n",
       "</table>\n",
       "</div>"
      ],
      "text/plain": [
       "       0  1\n",
       "0   2104  3\n",
       "1   1600  3\n",
       "2   2400  3\n",
       "3   1416  2\n",
       "4   3000  4\n",
       "5   1985  4\n",
       "6   1534  3\n",
       "7   1427  3\n",
       "8   1380  3\n",
       "9   1494  3\n",
       "10  1940  4\n",
       "11  2000  3\n",
       "12  1890  3\n",
       "13  4478  5\n",
       "14  1268  3\n",
       "15  2300  4\n",
       "16  1320  2\n",
       "17  1236  3\n",
       "18  2609  4\n",
       "19  3031  4\n",
       "20  1767  3\n",
       "21  1888  2\n",
       "22  1604  3\n",
       "23  1962  4\n",
       "24  3890  3\n",
       "25  1100  3\n",
       "26  1458  3\n",
       "27  2526  3\n",
       "28  2200  3\n",
       "29  2637  3\n",
       "30  1839  2\n",
       "31  1000  1\n",
       "32  2040  4\n",
       "33  3137  3\n",
       "34  1811  4\n",
       "35  1437  3\n",
       "36  1239  3\n",
       "37  2132  4\n",
       "38  4215  4\n",
       "39  2162  4\n",
       "40  1664  2\n",
       "41  2238  3\n",
       "42  2567  4\n",
       "43  1200  3\n",
       "44   852  2\n",
       "45  1852  4\n",
       "46  1203  3"
      ]
     },
     "execution_count": 123,
     "metadata": {},
     "output_type": "execute_result"
    }
   ],
   "source": [
    "X = df.iloc[:, 0:2]\n",
    "X"
   ]
  },
  {
   "cell_type": "code",
   "execution_count": 124,
   "metadata": {},
   "outputs": [
    {
     "data": {
      "text/plain": [
       "pandas.core.frame.DataFrame"
      ]
     },
     "execution_count": 124,
     "metadata": {},
     "output_type": "execute_result"
    }
   ],
   "source": [
    "type(X)"
   ]
  },
  {
   "cell_type": "code",
   "execution_count": 125,
   "metadata": {},
   "outputs": [],
   "source": [
    "X = X.to_numpy()"
   ]
  },
  {
   "cell_type": "code",
   "execution_count": 126,
   "metadata": {},
   "outputs": [
    {
     "data": {
      "text/plain": [
       "numpy.ndarray"
      ]
     },
     "execution_count": 126,
     "metadata": {},
     "output_type": "execute_result"
    }
   ],
   "source": [
    "type(X)"
   ]
  },
  {
   "cell_type": "code",
   "execution_count": 127,
   "metadata": {},
   "outputs": [
    {
     "data": {
      "text/plain": [
       "array([[2104,    3],\n",
       "       [1600,    3],\n",
       "       [2400,    3],\n",
       "       [1416,    2],\n",
       "       [3000,    4],\n",
       "       [1985,    4],\n",
       "       [1534,    3],\n",
       "       [1427,    3],\n",
       "       [1380,    3],\n",
       "       [1494,    3],\n",
       "       [1940,    4],\n",
       "       [2000,    3],\n",
       "       [1890,    3],\n",
       "       [4478,    5],\n",
       "       [1268,    3],\n",
       "       [2300,    4],\n",
       "       [1320,    2],\n",
       "       [1236,    3],\n",
       "       [2609,    4],\n",
       "       [3031,    4],\n",
       "       [1767,    3],\n",
       "       [1888,    2],\n",
       "       [1604,    3],\n",
       "       [1962,    4],\n",
       "       [3890,    3],\n",
       "       [1100,    3],\n",
       "       [1458,    3],\n",
       "       [2526,    3],\n",
       "       [2200,    3],\n",
       "       [2637,    3],\n",
       "       [1839,    2],\n",
       "       [1000,    1],\n",
       "       [2040,    4],\n",
       "       [3137,    3],\n",
       "       [1811,    4],\n",
       "       [1437,    3],\n",
       "       [1239,    3],\n",
       "       [2132,    4],\n",
       "       [4215,    4],\n",
       "       [2162,    4],\n",
       "       [1664,    2],\n",
       "       [2238,    3],\n",
       "       [2567,    4],\n",
       "       [1200,    3],\n",
       "       [ 852,    2],\n",
       "       [1852,    4],\n",
       "       [1203,    3]], dtype=int64)"
      ]
     },
     "execution_count": 127,
     "metadata": {},
     "output_type": "execute_result"
    }
   ],
   "source": [
    "X"
   ]
  },
  {
   "cell_type": "markdown",
   "metadata": {},
   "source": [
    "## normalize attempt"
   ]
  },
  {
   "cell_type": "code",
   "execution_count": 129,
   "metadata": {},
   "outputs": [],
   "source": [
    "def normalize(X):\n",
    "    X_mean = X.mean(axis=0)\n",
    "    X_std = X.std(axis=0)\n",
    "    \n",
    "    X_norm = (X - X_mean) / X_std\n",
    "    return X_norm, X_mean, X_std"
   ]
  },
  {
   "cell_type": "code",
   "execution_count": 130,
   "metadata": {},
   "outputs": [
    {
     "data": {
      "text/plain": [
       "array([[ 1.31415422e-01, -2.26093368e-01],\n",
       "       [-5.09640698e-01, -2.26093368e-01],\n",
       "       [ 5.07908699e-01, -2.26093368e-01],\n",
       "       [-7.43677059e-01, -1.55439190e+00],\n",
       "       [ 1.27107075e+00,  1.10220517e+00],\n",
       "       [-1.99450507e-02,  1.10220517e+00],\n",
       "       [-5.93588523e-01, -2.26093368e-01],\n",
       "       [-7.29685755e-01, -2.26093368e-01],\n",
       "       [-7.89466782e-01, -2.26093368e-01],\n",
       "       [-6.44465993e-01, -2.26093368e-01],\n",
       "       [-7.71822042e-02,  1.10220517e+00],\n",
       "       [-8.65999486e-04, -2.26093368e-01],\n",
       "       [-1.40779041e-01, -2.26093368e-01],\n",
       "       [ 3.15099326e+00,  2.43050370e+00],\n",
       "       [-9.31923697e-01, -2.26093368e-01],\n",
       "       [ 3.80715024e-01,  1.10220517e+00],\n",
       "       [-8.65782986e-01, -1.55439190e+00],\n",
       "       [-9.72625673e-01, -2.26093368e-01],\n",
       "       [ 7.73743478e-01,  1.10220517e+00],\n",
       "       [ 1.31050078e+00,  1.10220517e+00],\n",
       "       [-2.97227261e-01, -2.26093368e-01],\n",
       "       [-1.43322915e-01, -1.55439190e+00],\n",
       "       [-5.04552951e-01, -2.26093368e-01],\n",
       "       [-4.91995958e-02,  1.10220517e+00],\n",
       "       [ 2.40309445e+00, -2.26093368e-01],\n",
       "       [-1.14560907e+00, -2.26093368e-01],\n",
       "       [-6.90255715e-01, -2.26093368e-01],\n",
       "       [ 6.68172729e-01, -2.26093368e-01],\n",
       "       [ 2.53521350e-01, -2.26093368e-01],\n",
       "       [ 8.09357707e-01, -2.26093368e-01],\n",
       "       [-2.05647815e-01, -1.55439190e+00],\n",
       "       [-1.27280274e+00, -2.88269044e+00],\n",
       "       [ 5.00114703e-02,  1.10220517e+00],\n",
       "       [ 1.44532608e+00, -2.26093368e-01],\n",
       "       [-2.41262044e-01,  1.10220517e+00],\n",
       "       [-7.16966387e-01, -2.26093368e-01],\n",
       "       [-9.68809863e-01, -2.26093368e-01],\n",
       "       [ 1.67029651e-01,  1.10220517e+00],\n",
       "       [ 2.81647389e+00,  1.10220517e+00],\n",
       "       [ 2.05187753e-01,  1.10220517e+00],\n",
       "       [-4.28236746e-01, -1.55439190e+00],\n",
       "       [ 3.01854946e-01, -2.26093368e-01],\n",
       "       [ 7.20322135e-01,  1.10220517e+00],\n",
       "       [-1.01841540e+00, -2.26093368e-01],\n",
       "       [-1.46104938e+00, -1.55439190e+00],\n",
       "       [-1.89112638e-01,  1.10220517e+00],\n",
       "       [-1.01459959e+00, -2.26093368e-01]])"
      ]
     },
     "execution_count": 130,
     "metadata": {},
     "output_type": "execute_result"
    }
   ],
   "source": [
    "X_norm, mean, std = normalize(X)\n",
    "X_norm"
   ]
  },
  {
   "cell_type": "code",
   "execution_count": 131,
   "metadata": {},
   "outputs": [
    {
     "data": {
      "text/plain": [
       "47"
      ]
     },
     "execution_count": 131,
     "metadata": {},
     "output_type": "execute_result"
    }
   ],
   "source": [
    "len(X)"
   ]
  },
  {
   "cell_type": "markdown",
   "metadata": {},
   "source": [
    "#### Add a Ones Column to X"
   ]
  },
  {
   "cell_type": "code",
   "execution_count": 132,
   "metadata": {},
   "outputs": [
    {
     "data": {
      "text/plain": [
       "(47,)"
      ]
     },
     "execution_count": 132,
     "metadata": {},
     "output_type": "execute_result"
    }
   ],
   "source": [
    "ones = np.ones(len(X))\n",
    "ones.shape"
   ]
  },
  {
   "cell_type": "code",
   "execution_count": 133,
   "metadata": {},
   "outputs": [
    {
     "data": {
      "text/plain": [
       "array([[1.000e+00, 2.104e+03, 3.000e+00],\n",
       "       [1.000e+00, 1.600e+03, 3.000e+00],\n",
       "       [1.000e+00, 2.400e+03, 3.000e+00],\n",
       "       [1.000e+00, 1.416e+03, 2.000e+00],\n",
       "       [1.000e+00, 3.000e+03, 4.000e+00],\n",
       "       [1.000e+00, 1.985e+03, 4.000e+00],\n",
       "       [1.000e+00, 1.534e+03, 3.000e+00],\n",
       "       [1.000e+00, 1.427e+03, 3.000e+00],\n",
       "       [1.000e+00, 1.380e+03, 3.000e+00],\n",
       "       [1.000e+00, 1.494e+03, 3.000e+00],\n",
       "       [1.000e+00, 1.940e+03, 4.000e+00],\n",
       "       [1.000e+00, 2.000e+03, 3.000e+00],\n",
       "       [1.000e+00, 1.890e+03, 3.000e+00],\n",
       "       [1.000e+00, 4.478e+03, 5.000e+00],\n",
       "       [1.000e+00, 1.268e+03, 3.000e+00],\n",
       "       [1.000e+00, 2.300e+03, 4.000e+00],\n",
       "       [1.000e+00, 1.320e+03, 2.000e+00],\n",
       "       [1.000e+00, 1.236e+03, 3.000e+00],\n",
       "       [1.000e+00, 2.609e+03, 4.000e+00],\n",
       "       [1.000e+00, 3.031e+03, 4.000e+00],\n",
       "       [1.000e+00, 1.767e+03, 3.000e+00],\n",
       "       [1.000e+00, 1.888e+03, 2.000e+00],\n",
       "       [1.000e+00, 1.604e+03, 3.000e+00],\n",
       "       [1.000e+00, 1.962e+03, 4.000e+00],\n",
       "       [1.000e+00, 3.890e+03, 3.000e+00],\n",
       "       [1.000e+00, 1.100e+03, 3.000e+00],\n",
       "       [1.000e+00, 1.458e+03, 3.000e+00],\n",
       "       [1.000e+00, 2.526e+03, 3.000e+00],\n",
       "       [1.000e+00, 2.200e+03, 3.000e+00],\n",
       "       [1.000e+00, 2.637e+03, 3.000e+00],\n",
       "       [1.000e+00, 1.839e+03, 2.000e+00],\n",
       "       [1.000e+00, 1.000e+03, 1.000e+00],\n",
       "       [1.000e+00, 2.040e+03, 4.000e+00],\n",
       "       [1.000e+00, 3.137e+03, 3.000e+00],\n",
       "       [1.000e+00, 1.811e+03, 4.000e+00],\n",
       "       [1.000e+00, 1.437e+03, 3.000e+00],\n",
       "       [1.000e+00, 1.239e+03, 3.000e+00],\n",
       "       [1.000e+00, 2.132e+03, 4.000e+00],\n",
       "       [1.000e+00, 4.215e+03, 4.000e+00],\n",
       "       [1.000e+00, 2.162e+03, 4.000e+00],\n",
       "       [1.000e+00, 1.664e+03, 2.000e+00],\n",
       "       [1.000e+00, 2.238e+03, 3.000e+00],\n",
       "       [1.000e+00, 2.567e+03, 4.000e+00],\n",
       "       [1.000e+00, 1.200e+03, 3.000e+00],\n",
       "       [1.000e+00, 8.520e+02, 2.000e+00],\n",
       "       [1.000e+00, 1.852e+03, 4.000e+00],\n",
       "       [1.000e+00, 1.203e+03, 3.000e+00]])"
      ]
     },
     "execution_count": 133,
     "metadata": {},
     "output_type": "execute_result"
    }
   ],
   "source": [
    "X = np.column_stack((ones, X))\n",
    "X.round(2)"
   ]
  },
  {
   "cell_type": "code",
   "execution_count": 134,
   "metadata": {},
   "outputs": [
    {
     "data": {
      "text/plain": [
       "array([399900, 329900, 369000, 232000, 539900, 299900, 314900, 198999,\n",
       "       212000, 242500, 239999, 347000, 329999, 699900, 259900, 449900,\n",
       "       299900, 199900, 499998, 599000, 252900, 255000, 242900, 259900,\n",
       "       573900, 249900, 464500, 469000, 475000, 299900, 349900, 169900,\n",
       "       314900, 579900, 285900, 249900, 229900, 345000, 549000, 287000,\n",
       "       368500, 329900, 314000, 299000, 179900, 299900, 239500],\n",
       "      dtype=int64)"
      ]
     },
     "execution_count": 134,
     "metadata": {},
     "output_type": "execute_result"
    }
   ],
   "source": [
    "y"
   ]
  },
  {
   "cell_type": "code",
   "execution_count": 135,
   "metadata": {},
   "outputs": [
    {
     "data": {
      "text/plain": [
       "array([ 0.48089023, -0.08498338,  0.23109745, -0.87639804,  1.61263744,\n",
       "       -0.32750064, -0.20624201, -1.1431751 , -1.03807621, -0.791517  ,\n",
       "       -0.81173485,  0.05325146, -0.08418307,  2.90606282, -0.65085698,\n",
       "        0.88508566, -0.32750064, -1.1358915 ,  1.29007331,  2.09039644,\n",
       "       -0.70744435, -0.69046814, -0.78828343, -0.65085698,  1.88749033,\n",
       "       -0.73169607,  1.00311072,  1.03948831,  1.08799176, -0.32750064,\n",
       "        0.07669479, -1.37840876, -0.20624201,  1.93599378, -0.44067536,\n",
       "       -0.73169607, -0.89337424,  0.03708364,  1.686201  , -0.43178306,\n",
       "        0.22705549, -0.08498338, -0.21351753, -0.33477616, -1.29756968,\n",
       "       -0.32750064, -0.81576872])"
      ]
     },
     "execution_count": 135,
     "metadata": {},
     "output_type": "execute_result"
    }
   ],
   "source": [
    "y_norm, y_mean, y_std = normalize(y)\n",
    "y_norm"
   ]
  },
  {
   "cell_type": "code",
   "execution_count": 102,
   "metadata": {},
   "outputs": [
    {
     "data": {
      "text/plain": [
       "340412.6595744681"
      ]
     },
     "execution_count": 102,
     "metadata": {},
     "output_type": "execute_result"
    }
   ],
   "source": [
    "y_mean"
   ]
  },
  {
   "cell_type": "code",
   "execution_count": 103,
   "metadata": {},
   "outputs": [
    {
     "data": {
      "text/plain": [
       "123702.5360061474"
      ]
     },
     "execution_count": 103,
     "metadata": {},
     "output_type": "execute_result"
    }
   ],
   "source": [
    "y_std"
   ]
  },
  {
   "cell_type": "code",
   "execution_count": 108,
   "metadata": {},
   "outputs": [],
   "source": [
    "def normal_equation(X, y):\n",
    "    return np.linalg.inv(X.T @ X) @ X.T @ y "
   ]
  },
  {
   "cell_type": "code",
   "execution_count": 136,
   "metadata": {},
   "outputs": [
    {
     "data": {
      "text/plain": [
       "array([ 0.88, -0.05])"
      ]
     },
     "execution_count": 136,
     "metadata": {},
     "output_type": "execute_result"
    }
   ],
   "source": [
    "C"
   ]
  },
  {
   "cell_type": "code",
   "execution_count": 137,
   "metadata": {},
   "outputs": [
    {
     "data": {
      "text/plain": [
       "array([89597.91,   139.21, -8738.02])"
      ]
     },
     "execution_count": 137,
     "metadata": {},
     "output_type": "execute_result"
    }
   ],
   "source": [
    "normal_equation(X, y).round(2)"
   ]
  },
  {
   "cell_type": "code",
   "execution_count": 138,
   "metadata": {},
   "outputs": [
    {
     "data": {
      "text/plain": [
       "293080.35000000003"
      ]
     },
     "execution_count": 138,
     "metadata": {},
     "output_type": "execute_result"
    }
   ],
   "source": [
    " 89597.91 + 139.21*(1650) -8738.02 * (3) "
   ]
  },
  {
   "cell_type": "code",
   "execution_count": 139,
   "metadata": {},
   "outputs": [
    {
     "data": {
      "text/plain": [
       "293085.6483"
      ]
     },
     "execution_count": 139,
     "metadata": {},
     "output_type": "execute_result"
    }
   ],
   "source": [
    "340412.66*(1) + 109447.8*(-0.446) + -6578.35*(-0.226)  # $293085"
   ]
  },
  {
   "cell_type": "code",
   "execution_count": 152,
   "metadata": {},
   "outputs": [
    {
     "data": {
      "text/plain": [
       "array([71270.49244873,   134.52528772])"
      ]
     },
     "execution_count": 152,
     "metadata": {},
     "output_type": "execute_result"
    }
   ],
   "source": [
    "normal_equation(X[:, 0:2], y)"
   ]
  },
  {
   "cell_type": "code",
   "execution_count": 147,
   "metadata": {},
   "outputs": [
    {
     "data": {
      "text/plain": [
       "293237.214738"
      ]
     },
     "execution_count": 147,
     "metadata": {},
     "output_type": "execute_result"
    }
   ],
   "source": [
    "71270.49 +  134.52528772 * (1650)"
   ]
  },
  {
   "cell_type": "code",
   "execution_count": 310,
   "metadata": {},
   "outputs": [
    {
     "data": {
      "text/plain": [
       "array([71.27049245,  0.13452529])"
      ]
     },
     "execution_count": 310,
     "metadata": {},
     "output_type": "execute_result"
    }
   ],
   "source": [
    "normal_equation(X[:, 0:2], y/1000)"
   ]
  },
  {
   "cell_type": "code",
   "execution_count": 155,
   "metadata": {},
   "outputs": [
    {
     "data": {
      "text/plain": [
       "array([399.9  , 329.9  , 369.   , 232.   , 539.9  , 299.9  , 314.9  ,\n",
       "       198.999, 212.   , 242.5  , 239.999, 347.   , 329.999, 699.9  ,\n",
       "       259.9  , 449.9  , 299.9  , 199.9  , 499.998, 599.   , 252.9  ,\n",
       "       255.   , 242.9  , 259.9  , 573.9  , 249.9  , 464.5  , 469.   ,\n",
       "       475.   , 299.9  , 349.9  , 169.9  , 314.9  , 579.9  , 285.9  ,\n",
       "       249.9  , 229.9  , 345.   , 549.   , 287.   , 368.5  , 329.9  ,\n",
       "       314.   , 299.   , 179.9  , 299.9  , 239.5  ])"
      ]
     },
     "execution_count": 155,
     "metadata": {},
     "output_type": "execute_result"
    }
   ],
   "source": [
    "y_scaled = y/1000\n",
    "y_scaled"
   ]
  },
  {
   "cell_type": "markdown",
   "metadata": {},
   "source": [
    "### for new guesses"
   ]
  },
  {
   "cell_type": "code",
   "execution_count": 56,
   "metadata": {},
   "outputs": [
    {
     "data": {
      "text/plain": [
       "array([2000.68085106,    3.17021277])"
      ]
     },
     "execution_count": 56,
     "metadata": {},
     "output_type": "execute_result"
    }
   ],
   "source": [
    "mean"
   ]
  },
  {
   "cell_type": "code",
   "execution_count": 57,
   "metadata": {},
   "outputs": [
    {
     "data": {
      "text/plain": [
       "array([7.86202619e+02, 7.52842809e-01])"
      ]
     },
     "execution_count": 57,
     "metadata": {},
     "output_type": "execute_result"
    }
   ],
   "source": [
    "std"
   ]
  },
  {
   "cell_type": "markdown",
   "metadata": {},
   "source": [
    "lets test a sample: 1650 sqft and 3 bedrooms\n",
    "\n",
    "don't forget, we must normalize."
   ]
  },
  {
   "cell_type": "code",
   "execution_count": 70,
   "metadata": {},
   "outputs": [
    {
     "data": {
      "text/plain": [
       "array([1650,    3])"
      ]
     },
     "execution_count": 70,
     "metadata": {},
     "output_type": "execute_result"
    }
   ],
   "source": [
    "new_guess = np.array([1650, 3])\n",
    "new_guess"
   ]
  },
  {
   "cell_type": "code",
   "execution_count": 71,
   "metadata": {},
   "outputs": [
    {
     "data": {
      "text/plain": [
       "(2,)"
      ]
     },
     "execution_count": 71,
     "metadata": {},
     "output_type": "execute_result"
    }
   ],
   "source": [
    "new_guess.shape"
   ]
  },
  {
   "cell_type": "code",
   "execution_count": 72,
   "metadata": {},
   "outputs": [
    {
     "data": {
      "text/plain": [
       "array([-0.44604386, -0.22609337])"
      ]
     },
     "execution_count": 72,
     "metadata": {},
     "output_type": "execute_result"
    }
   ],
   "source": [
    "(new_guess - mean) / std  # this matches the other calcs"
   ]
  },
  {
   "cell_type": "markdown",
   "metadata": {},
   "source": [
    "## I'm really keen on having a visual cost function\n",
    "I think the way to go about that, is to just use the first feature, sqft from the example above.\n",
    "\n",
    "but first we need an analytic answer"
   ]
  },
  {
   "cell_type": "code",
   "execution_count": 331,
   "metadata": {},
   "outputs": [
    {
     "data": {
      "text/plain": [
       "array([399.9  , 329.9  , 369.   , 232.   , 539.9  , 299.9  , 314.9  ,\n",
       "       198.999, 212.   , 242.5  , 239.999, 347.   , 329.999, 699.9  ,\n",
       "       259.9  , 449.9  , 299.9  , 199.9  , 499.998, 599.   , 252.9  ,\n",
       "       255.   , 242.9  , 259.9  , 573.9  , 249.9  , 464.5  , 469.   ,\n",
       "       475.   , 299.9  , 349.9  , 169.9  , 314.9  , 579.9  , 285.9  ,\n",
       "       249.9  , 229.9  , 345.   , 549.   , 287.   , 368.5  , 329.9  ,\n",
       "       314.   , 299.   , 179.9  , 299.9  , 239.5  ])"
      ]
     },
     "execution_count": 331,
     "metadata": {},
     "output_type": "execute_result"
    }
   ],
   "source": [
    "y_scaled"
   ]
  },
  {
   "cell_type": "code",
   "execution_count": 356,
   "metadata": {},
   "outputs": [
    {
     "data": {
      "text/plain": [
       "array([[1.000e+00, 2.104e+03, 3.000e+00],\n",
       "       [1.000e+00, 1.600e+03, 3.000e+00],\n",
       "       [1.000e+00, 2.400e+03, 3.000e+00],\n",
       "       [1.000e+00, 1.416e+03, 2.000e+00],\n",
       "       [1.000e+00, 3.000e+03, 4.000e+00],\n",
       "       [1.000e+00, 1.985e+03, 4.000e+00],\n",
       "       [1.000e+00, 1.534e+03, 3.000e+00],\n",
       "       [1.000e+00, 1.427e+03, 3.000e+00],\n",
       "       [1.000e+00, 1.380e+03, 3.000e+00],\n",
       "       [1.000e+00, 1.494e+03, 3.000e+00],\n",
       "       [1.000e+00, 1.940e+03, 4.000e+00],\n",
       "       [1.000e+00, 2.000e+03, 3.000e+00],\n",
       "       [1.000e+00, 1.890e+03, 3.000e+00],\n",
       "       [1.000e+00, 4.478e+03, 5.000e+00],\n",
       "       [1.000e+00, 1.268e+03, 3.000e+00],\n",
       "       [1.000e+00, 2.300e+03, 4.000e+00],\n",
       "       [1.000e+00, 1.320e+03, 2.000e+00],\n",
       "       [1.000e+00, 1.236e+03, 3.000e+00],\n",
       "       [1.000e+00, 2.609e+03, 4.000e+00],\n",
       "       [1.000e+00, 3.031e+03, 4.000e+00],\n",
       "       [1.000e+00, 1.767e+03, 3.000e+00],\n",
       "       [1.000e+00, 1.888e+03, 2.000e+00],\n",
       "       [1.000e+00, 1.604e+03, 3.000e+00],\n",
       "       [1.000e+00, 1.962e+03, 4.000e+00],\n",
       "       [1.000e+00, 3.890e+03, 3.000e+00],\n",
       "       [1.000e+00, 1.100e+03, 3.000e+00],\n",
       "       [1.000e+00, 1.458e+03, 3.000e+00],\n",
       "       [1.000e+00, 2.526e+03, 3.000e+00],\n",
       "       [1.000e+00, 2.200e+03, 3.000e+00],\n",
       "       [1.000e+00, 2.637e+03, 3.000e+00],\n",
       "       [1.000e+00, 1.839e+03, 2.000e+00],\n",
       "       [1.000e+00, 1.000e+03, 1.000e+00],\n",
       "       [1.000e+00, 2.040e+03, 4.000e+00],\n",
       "       [1.000e+00, 3.137e+03, 3.000e+00],\n",
       "       [1.000e+00, 1.811e+03, 4.000e+00],\n",
       "       [1.000e+00, 1.437e+03, 3.000e+00],\n",
       "       [1.000e+00, 1.239e+03, 3.000e+00],\n",
       "       [1.000e+00, 2.132e+03, 4.000e+00],\n",
       "       [1.000e+00, 4.215e+03, 4.000e+00],\n",
       "       [1.000e+00, 2.162e+03, 4.000e+00],\n",
       "       [1.000e+00, 1.664e+03, 2.000e+00],\n",
       "       [1.000e+00, 2.238e+03, 3.000e+00],\n",
       "       [1.000e+00, 2.567e+03, 4.000e+00],\n",
       "       [1.000e+00, 1.200e+03, 3.000e+00],\n",
       "       [1.000e+00, 8.520e+02, 2.000e+00],\n",
       "       [1.000e+00, 1.852e+03, 4.000e+00],\n",
       "       [1.000e+00, 1.203e+03, 3.000e+00]])"
      ]
     },
     "execution_count": 356,
     "metadata": {},
     "output_type": "execute_result"
    }
   ],
   "source": [
    "X"
   ]
  },
  {
   "cell_type": "code",
   "execution_count": 232,
   "metadata": {
    "scrolled": true
   },
   "outputs": [
    {
     "data": {
      "text/plain": [
       "array([2104., 1600., 2400., 1416., 3000., 1985., 1534., 1427., 1380.,\n",
       "       1494., 1940., 2000., 1890., 4478., 1268., 2300., 1320., 1236.,\n",
       "       2609., 3031., 1767., 1888., 1604., 1962., 3890., 1100., 1458.,\n",
       "       2526., 2200., 2637., 1839., 1000., 2040., 3137., 1811., 1437.,\n",
       "       1239., 2132., 4215., 2162., 1664., 2238., 2567., 1200.,  852.,\n",
       "       1852., 1203.])"
      ]
     },
     "execution_count": 232,
     "metadata": {},
     "output_type": "execute_result"
    }
   ],
   "source": [
    "X_sqft = X[:, 1].round(2)\n",
    "X_sqft"
   ]
  },
  {
   "cell_type": "code",
   "execution_count": 158,
   "metadata": {},
   "outputs": [
    {
     "data": {
      "text/plain": [
       "array([71.27,  0.13])"
      ]
     },
     "execution_count": 158,
     "metadata": {},
     "output_type": "execute_result"
    }
   ],
   "source": [
    "normal_equation(X_sqft, y_scaled).round(2)"
   ]
  },
  {
   "cell_type": "code",
   "execution_count": 321,
   "metadata": {},
   "outputs": [
    {
     "data": {
      "text/plain": [
       "array([2.104, 1.6  , 2.4  , 1.416, 3.   , 1.985, 1.534, 1.427, 1.38 ,\n",
       "       1.494, 1.94 , 2.   , 1.89 , 4.478, 1.268, 2.3  , 1.32 , 1.236,\n",
       "       2.609, 3.031, 1.767, 1.888, 1.604, 1.962, 3.89 , 1.1  , 1.458,\n",
       "       2.526, 2.2  , 2.637, 1.839, 1.   , 2.04 , 3.137, 1.811, 1.437,\n",
       "       1.239, 2.132, 4.215, 2.162, 1.664, 2.238, 2.567, 1.2  , 0.852,\n",
       "       1.852, 1.203])"
      ]
     },
     "execution_count": 321,
     "metadata": {},
     "output_type": "execute_result"
    }
   ],
   "source": [
    "X_sqft_scaled_ = X_sqft / 1000\n",
    "X_sqft_scaled_"
   ]
  },
  {
   "cell_type": "code",
   "execution_count": 323,
   "metadata": {},
   "outputs": [
    {
     "data": {
      "text/plain": [
       "array([[1.   , 2.104],\n",
       "       [1.   , 1.6  ],\n",
       "       [1.   , 2.4  ],\n",
       "       [1.   , 1.416],\n",
       "       [1.   , 3.   ],\n",
       "       [1.   , 1.985],\n",
       "       [1.   , 1.534],\n",
       "       [1.   , 1.427],\n",
       "       [1.   , 1.38 ],\n",
       "       [1.   , 1.494],\n",
       "       [1.   , 1.94 ],\n",
       "       [1.   , 2.   ],\n",
       "       [1.   , 1.89 ],\n",
       "       [1.   , 4.478],\n",
       "       [1.   , 1.268],\n",
       "       [1.   , 2.3  ],\n",
       "       [1.   , 1.32 ],\n",
       "       [1.   , 1.236],\n",
       "       [1.   , 2.609],\n",
       "       [1.   , 3.031],\n",
       "       [1.   , 1.767],\n",
       "       [1.   , 1.888],\n",
       "       [1.   , 1.604],\n",
       "       [1.   , 1.962],\n",
       "       [1.   , 3.89 ],\n",
       "       [1.   , 1.1  ],\n",
       "       [1.   , 1.458],\n",
       "       [1.   , 2.526],\n",
       "       [1.   , 2.2  ],\n",
       "       [1.   , 2.637],\n",
       "       [1.   , 1.839],\n",
       "       [1.   , 1.   ],\n",
       "       [1.   , 2.04 ],\n",
       "       [1.   , 3.137],\n",
       "       [1.   , 1.811],\n",
       "       [1.   , 1.437],\n",
       "       [1.   , 1.239],\n",
       "       [1.   , 2.132],\n",
       "       [1.   , 4.215],\n",
       "       [1.   , 2.162],\n",
       "       [1.   , 1.664],\n",
       "       [1.   , 2.238],\n",
       "       [1.   , 2.567],\n",
       "       [1.   , 1.2  ],\n",
       "       [1.   , 0.852],\n",
       "       [1.   , 1.852],\n",
       "       [1.   , 1.203]])"
      ]
     },
     "execution_count": 323,
     "metadata": {},
     "output_type": "execute_result"
    }
   ],
   "source": [
    "X_sqft_scaled = np.column_stack((np.ones(len(X_sqft_scaled_)), X_sqft_scaled_))\n",
    "X_sqft_scaled"
   ]
  },
  {
   "cell_type": "code",
   "execution_count": 330,
   "metadata": {},
   "outputs": [
    {
     "data": {
      "text/plain": [
       "array([ 71.27049245, 134.52528772])"
      ]
     },
     "execution_count": 330,
     "metadata": {},
     "output_type": "execute_result"
    }
   ],
   "source": [
    "normal_equation(X_sqft_scaled, y_scaled)"
   ]
  },
  {
   "cell_type": "markdown",
   "metadata": {},
   "source": [
    "## plot attempt"
   ]
  },
  {
   "cell_type": "code",
   "execution_count": 352,
   "metadata": {},
   "outputs": [
    {
     "data": {
      "text/plain": [
       "array([2.104, 1.6  , 2.4  , 1.416, 3.   , 1.985, 1.534, 1.427, 1.38 ,\n",
       "       1.494, 1.94 , 2.   , 1.89 , 4.478, 1.268, 2.3  , 1.32 , 1.236,\n",
       "       2.609, 3.031, 1.767, 1.888, 1.604, 1.962, 3.89 , 1.1  , 1.458,\n",
       "       2.526, 2.2  , 2.637, 1.839, 1.   , 2.04 , 3.137, 1.811, 1.437,\n",
       "       1.239, 2.132, 4.215, 2.162, 1.664, 2.238, 2.567, 1.2  , 0.852,\n",
       "       1.852, 1.203])"
      ]
     },
     "execution_count": 352,
     "metadata": {},
     "output_type": "execute_result"
    }
   ],
   "source": [
    "X_sqft_scaled[:, 1]"
   ]
  },
  {
   "cell_type": "code",
   "execution_count": 351,
   "metadata": {},
   "outputs": [
    {
     "data": {
      "text/plain": [
       "array([3.999  , 3.299  , 3.69   , 2.32   , 5.399  , 2.999  , 3.149  ,\n",
       "       1.98999, 2.12   , 2.425  , 2.39999, 3.47   , 3.29999, 6.999  ,\n",
       "       2.599  , 4.499  , 2.999  , 1.999  , 4.99998, 5.99   , 2.529  ,\n",
       "       2.55   , 2.429  , 2.599  , 5.739  , 2.499  , 4.645  , 4.69   ,\n",
       "       4.75   , 2.999  , 3.499  , 1.699  , 3.149  , 5.799  , 2.859  ,\n",
       "       2.499  , 2.299  , 3.45   , 5.49   , 2.87   , 3.685  , 3.299  ,\n",
       "       3.14   , 2.99   , 1.799  , 2.999  , 2.395  ])"
      ]
     },
     "execution_count": 351,
     "metadata": {},
     "output_type": "execute_result"
    }
   ],
   "source": [
    "y_scaled_further = y_scaled/100\n",
    "y_scaled_further"
   ]
  },
  {
   "cell_type": "code",
   "execution_count": 353,
   "metadata": {},
   "outputs": [
    {
     "data": {
      "text/plain": [
       "<matplotlib.collections.PathCollection at 0x1d86f0e8e50>"
      ]
     },
     "execution_count": 353,
     "metadata": {},
     "output_type": "execute_result"
    },
    {
     "data": {
      "image/png": "[encoded data removed]",
      "text/plain": [
       "<Figure size 432x288 with 1 Axes>"
      ]
     },
     "metadata": {
      "needs_background": "light"
     },
     "output_type": "display_data"
    }
   ],
   "source": [
    "plt.scatter(X_sqft_scaled[:, 1], y_scaled_further)"
   ]
  },
  {
   "cell_type": "code",
   "execution_count": 354,
   "metadata": {},
   "outputs": [
    {
     "data": {
      "text/plain": [
       "array([[1.   , 2.104],\n",
       "       [1.   , 1.6  ],\n",
       "       [1.   , 2.4  ],\n",
       "       [1.   , 1.416],\n",
       "       [1.   , 3.   ],\n",
       "       [1.   , 1.985],\n",
       "       [1.   , 1.534],\n",
       "       [1.   , 1.427],\n",
       "       [1.   , 1.38 ],\n",
       "       [1.   , 1.494],\n",
       "       [1.   , 1.94 ],\n",
       "       [1.   , 2.   ],\n",
       "       [1.   , 1.89 ],\n",
       "       [1.   , 4.478],\n",
       "       [1.   , 1.268],\n",
       "       [1.   , 2.3  ],\n",
       "       [1.   , 1.32 ],\n",
       "       [1.   , 1.236],\n",
       "       [1.   , 2.609],\n",
       "       [1.   , 3.031],\n",
       "       [1.   , 1.767],\n",
       "       [1.   , 1.888],\n",
       "       [1.   , 1.604],\n",
       "       [1.   , 1.962],\n",
       "       [1.   , 3.89 ],\n",
       "       [1.   , 1.1  ],\n",
       "       [1.   , 1.458],\n",
       "       [1.   , 2.526],\n",
       "       [1.   , 2.2  ],\n",
       "       [1.   , 2.637],\n",
       "       [1.   , 1.839],\n",
       "       [1.   , 1.   ],\n",
       "       [1.   , 2.04 ],\n",
       "       [1.   , 3.137],\n",
       "       [1.   , 1.811],\n",
       "       [1.   , 1.437],\n",
       "       [1.   , 1.239],\n",
       "       [1.   , 2.132],\n",
       "       [1.   , 4.215],\n",
       "       [1.   , 2.162],\n",
       "       [1.   , 1.664],\n",
       "       [1.   , 2.238],\n",
       "       [1.   , 2.567],\n",
       "       [1.   , 1.2  ],\n",
       "       [1.   , 0.852],\n",
       "       [1.   , 1.852],\n",
       "       [1.   , 1.203]])"
      ]
     },
     "execution_count": 354,
     "metadata": {},
     "output_type": "execute_result"
    }
   ],
   "source": [
    "X_sqft_scaled"
   ]
  },
  {
   "cell_type": "code",
   "execution_count": 357,
   "metadata": {},
   "outputs": [],
   "source": [
    "def normal_equation(X, y):\n",
    "    return np.linalg.inv(X.T @ X) @ X.T @ y"
   ]
  },
  {
   "cell_type": "code",
   "execution_count": 358,
   "metadata": {},
   "outputs": [
    {
     "data": {
      "text/plain": [
       "array([0.71270492, 1.34525288])"
      ]
     },
     "execution_count": 358,
     "metadata": {},
     "output_type": "execute_result"
    }
   ],
   "source": [
    "normal_equation(X_sqft_scaled, y_scaled_further)"
   ]
  },
  {
   "cell_type": "markdown",
   "metadata": {},
   "source": [
    "#### debugging plot function"
   ]
  },
  {
   "cell_type": "code",
   "execution_count": 385,
   "metadata": {},
   "outputs": [
    {
     "data": {
      "text/plain": [
       "array([0. , 0.2, 0.4, 0.6, 0.8, 1. , 1.2, 1.4, 1.6, 1.8, 2. ])"
      ]
     },
     "execution_count": 385,
     "metadata": {},
     "output_type": "execute_result"
    }
   ],
   "source": [
    "steps0 = np.linspace(0, 2, 11)\n",
    "steps0"
   ]
  },
  {
   "cell_type": "code",
   "execution_count": 386,
   "metadata": {},
   "outputs": [
    {
     "data": {
      "text/plain": [
       "array([0. , 0.2, 0.4, 0.6, 0.8, 1. , 1.2, 1.4, 1.6, 1.8, 2. ])"
      ]
     },
     "execution_count": 386,
     "metadata": {},
     "output_type": "execute_result"
    }
   ],
   "source": [
    "steps1 = np.linspace(0, 2, 11)\n",
    "steps1"
   ]
  },
  {
   "cell_type": "code",
   "execution_count": 361,
   "metadata": {},
   "outputs": [
    {
     "data": {
      "text/plain": [
       "(11, 11)"
      ]
     },
     "execution_count": 361,
     "metadata": {},
     "output_type": "execute_result"
    }
   ],
   "source": [
    "w1, w2 = np.meshgrid(steps0, steps1)\n",
    "w1.shape"
   ]
  },
  {
   "cell_type": "code",
   "execution_count": 362,
   "metadata": {},
   "outputs": [
    {
     "data": {
      "text/plain": [
       "array([[0. , 0.1, 0.2, 0.3, 0.4, 0.5, 0.6, 0.7, 0.8, 0.9, 1. ],\n",
       "       [0. , 0.1, 0.2, 0.3, 0.4, 0.5, 0.6, 0.7, 0.8, 0.9, 1. ],\n",
       "       [0. , 0.1, 0.2, 0.3, 0.4, 0.5, 0.6, 0.7, 0.8, 0.9, 1. ],\n",
       "       [0. , 0.1, 0.2, 0.3, 0.4, 0.5, 0.6, 0.7, 0.8, 0.9, 1. ],\n",
       "       [0. , 0.1, 0.2, 0.3, 0.4, 0.5, 0.6, 0.7, 0.8, 0.9, 1. ],\n",
       "       [0. , 0.1, 0.2, 0.3, 0.4, 0.5, 0.6, 0.7, 0.8, 0.9, 1. ],\n",
       "       [0. , 0.1, 0.2, 0.3, 0.4, 0.5, 0.6, 0.7, 0.8, 0.9, 1. ],\n",
       "       [0. , 0.1, 0.2, 0.3, 0.4, 0.5, 0.6, 0.7, 0.8, 0.9, 1. ],\n",
       "       [0. , 0.1, 0.2, 0.3, 0.4, 0.5, 0.6, 0.7, 0.8, 0.9, 1. ],\n",
       "       [0. , 0.1, 0.2, 0.3, 0.4, 0.5, 0.6, 0.7, 0.8, 0.9, 1. ],\n",
       "       [0. , 0.1, 0.2, 0.3, 0.4, 0.5, 0.6, 0.7, 0.8, 0.9, 1. ]])"
      ]
     },
     "execution_count": 362,
     "metadata": {},
     "output_type": "execute_result"
    }
   ],
   "source": [
    "w1"
   ]
  },
  {
   "cell_type": "code",
   "execution_count": 364,
   "metadata": {},
   "outputs": [
    {
     "data": {
      "text/plain": [
       "array([[0. , 0. , 0. , 0. , 0. , 0. , 0. , 0. , 0. , 0. , 0. ],\n",
       "       [0.2, 0.2, 0.2, 0.2, 0.2, 0.2, 0.2, 0.2, 0.2, 0.2, 0.2],\n",
       "       [0.4, 0.4, 0.4, 0.4, 0.4, 0.4, 0.4, 0.4, 0.4, 0.4, 0.4],\n",
       "       [0.6, 0.6, 0.6, 0.6, 0.6, 0.6, 0.6, 0.6, 0.6, 0.6, 0.6],\n",
       "       [0.8, 0.8, 0.8, 0.8, 0.8, 0.8, 0.8, 0.8, 0.8, 0.8, 0.8],\n",
       "       [1. , 1. , 1. , 1. , 1. , 1. , 1. , 1. , 1. , 1. , 1. ],\n",
       "       [1.2, 1.2, 1.2, 1.2, 1.2, 1.2, 1.2, 1.2, 1.2, 1.2, 1.2],\n",
       "       [1.4, 1.4, 1.4, 1.4, 1.4, 1.4, 1.4, 1.4, 1.4, 1.4, 1.4],\n",
       "       [1.6, 1.6, 1.6, 1.6, 1.6, 1.6, 1.6, 1.6, 1.6, 1.6, 1.6],\n",
       "       [1.8, 1.8, 1.8, 1.8, 1.8, 1.8, 1.8, 1.8, 1.8, 1.8, 1.8],\n",
       "       [2. , 2. , 2. , 2. , 2. , 2. , 2. , 2. , 2. , 2. , 2. ]])"
      ]
     },
     "execution_count": 364,
     "metadata": {},
     "output_type": "execute_result"
    }
   ],
   "source": [
    "w2"
   ]
  },
  {
   "cell_type": "code",
   "execution_count": 363,
   "metadata": {},
   "outputs": [
    {
     "data": {
      "text/plain": [
       "array([[0. , 0. ],\n",
       "       [0.1, 0. ],\n",
       "       [0.2, 0. ],\n",
       "       [0.3, 0. ],\n",
       "       [0.4, 0. ],\n",
       "       [0.5, 0. ],\n",
       "       [0.6, 0. ],\n",
       "       [0.7, 0. ],\n",
       "       [0.8, 0. ],\n",
       "       [0.9, 0. ],\n",
       "       [1. , 0. ],\n",
       "       [0. , 0.2],\n",
       "       [0.1, 0.2],\n",
       "       [0.2, 0.2],\n",
       "       [0.3, 0.2],\n",
       "       [0.4, 0.2],\n",
       "       [0.5, 0.2],\n",
       "       [0.6, 0.2],\n",
       "       [0.7, 0.2],\n",
       "       [0.8, 0.2],\n",
       "       [0.9, 0.2],\n",
       "       [1. , 0.2],\n",
       "       [0. , 0.4],\n",
       "       [0.1, 0.4],\n",
       "       [0.2, 0.4],\n",
       "       [0.3, 0.4],\n",
       "       [0.4, 0.4],\n",
       "       [0.5, 0.4],\n",
       "       [0.6, 0.4],\n",
       "       [0.7, 0.4],\n",
       "       [0.8, 0.4],\n",
       "       [0.9, 0.4],\n",
       "       [1. , 0.4],\n",
       "       [0. , 0.6],\n",
       "       [0.1, 0.6],\n",
       "       [0.2, 0.6],\n",
       "       [0.3, 0.6],\n",
       "       [0.4, 0.6],\n",
       "       [0.5, 0.6],\n",
       "       [0.6, 0.6],\n",
       "       [0.7, 0.6],\n",
       "       [0.8, 0.6],\n",
       "       [0.9, 0.6],\n",
       "       [1. , 0.6],\n",
       "       [0. , 0.8],\n",
       "       [0.1, 0.8],\n",
       "       [0.2, 0.8],\n",
       "       [0.3, 0.8],\n",
       "       [0.4, 0.8],\n",
       "       [0.5, 0.8],\n",
       "       [0.6, 0.8],\n",
       "       [0.7, 0.8],\n",
       "       [0.8, 0.8],\n",
       "       [0.9, 0.8],\n",
       "       [1. , 0.8],\n",
       "       [0. , 1. ],\n",
       "       [0.1, 1. ],\n",
       "       [0.2, 1. ],\n",
       "       [0.3, 1. ],\n",
       "       [0.4, 1. ],\n",
       "       [0.5, 1. ],\n",
       "       [0.6, 1. ],\n",
       "       [0.7, 1. ],\n",
       "       [0.8, 1. ],\n",
       "       [0.9, 1. ],\n",
       "       [1. , 1. ],\n",
       "       [0. , 1.2],\n",
       "       [0.1, 1.2],\n",
       "       [0.2, 1.2],\n",
       "       [0.3, 1.2],\n",
       "       [0.4, 1.2],\n",
       "       [0.5, 1.2],\n",
       "       [0.6, 1.2],\n",
       "       [0.7, 1.2],\n",
       "       [0.8, 1.2],\n",
       "       [0.9, 1.2],\n",
       "       [1. , 1.2],\n",
       "       [0. , 1.4],\n",
       "       [0.1, 1.4],\n",
       "       [0.2, 1.4],\n",
       "       [0.3, 1.4],\n",
       "       [0.4, 1.4],\n",
       "       [0.5, 1.4],\n",
       "       [0.6, 1.4],\n",
       "       [0.7, 1.4],\n",
       "       [0.8, 1.4],\n",
       "       [0.9, 1.4],\n",
       "       [1. , 1.4],\n",
       "       [0. , 1.6],\n",
       "       [0.1, 1.6],\n",
       "       [0.2, 1.6],\n",
       "       [0.3, 1.6],\n",
       "       [0.4, 1.6],\n",
       "       [0.5, 1.6],\n",
       "       [0.6, 1.6],\n",
       "       [0.7, 1.6],\n",
       "       [0.8, 1.6],\n",
       "       [0.9, 1.6],\n",
       "       [1. , 1.6],\n",
       "       [0. , 1.8],\n",
       "       [0.1, 1.8],\n",
       "       [0.2, 1.8],\n",
       "       [0.3, 1.8],\n",
       "       [0.4, 1.8],\n",
       "       [0.5, 1.8],\n",
       "       [0.6, 1.8],\n",
       "       [0.7, 1.8],\n",
       "       [0.8, 1.8],\n",
       "       [0.9, 1.8],\n",
       "       [1. , 1.8],\n",
       "       [0. , 2. ],\n",
       "       [0.1, 2. ],\n",
       "       [0.2, 2. ],\n",
       "       [0.3, 2. ],\n",
       "       [0.4, 2. ],\n",
       "       [0.5, 2. ],\n",
       "       [0.6, 2. ],\n",
       "       [0.7, 2. ],\n",
       "       [0.8, 2. ],\n",
       "       [0.9, 2. ],\n",
       "       [1. , 2. ]])"
      ]
     },
     "execution_count": 363,
     "metadata": {},
     "output_type": "execute_result"
    }
   ],
   "source": [
    "w1_ = w1.ravel()\n",
    "w2_ = w2.ravel()\n",
    "w = np.column_stack([w1_, w2_])\n",
    "w"
   ]
  },
  {
   "cell_type": "code",
   "execution_count": 365,
   "metadata": {},
   "outputs": [
    {
     "data": {
      "text/plain": [
       "(121, 2)"
      ]
     },
     "execution_count": 365,
     "metadata": {},
     "output_type": "execute_result"
    }
   ],
   "source": [
    "w.shape"
   ]
  },
  {
   "cell_type": "code",
   "execution_count": 366,
   "metadata": {},
   "outputs": [],
   "source": [
    "def calculateCostArray(X, y, i):\n",
    "    return computeCost(X, y, w[i])"
   ]
  },
  {
   "cell_type": "code",
   "execution_count": 367,
   "metadata": {},
   "outputs": [],
   "source": [
    "def computeCost(X, y, w):\n",
    "    t = X @ w - y\n",
    "    t_squared = t * t   # vectorized. element wise squaring\n",
    "    cost = 1/(2*len(X)) * sum(t_squared)\n",
    "    return cost"
   ]
  },
  {
   "cell_type": "code",
   "execution_count": 369,
   "metadata": {},
   "outputs": [
    {
     "data": {
      "text/plain": [
       "array([6.55915481, 6.22374215, 5.89832949, 5.58291683, 5.27750417,\n",
       "       4.98209151, 4.69667885, 4.42126619, 4.15585353, 3.90044087,\n",
       "       3.65502821, 5.12315332, 4.82775428, 4.54235524, 4.2669562 ,\n",
       "       4.00155715, 3.74615811, 3.50075907, 3.26536002, 3.03996098,\n",
       "       2.82456194, 2.6191629 , 3.87198537, 3.61659995, 3.37121452,\n",
       "       3.1358291 , 2.91044367, 2.69505824, 2.48967282, 2.29428739,\n",
       "       2.10890197, 1.93351654, 1.76813112, 2.80565096, 2.59027915,\n",
       "       2.38490734, 2.18953553, 2.00416372, 1.82879192, 1.66342011,\n",
       "       1.5080483 , 1.36267649, 1.22730468, 1.10193287, 1.92415008,\n",
       "       1.74879189, 1.5834337 , 1.42807551, 1.28271732, 1.14735912,\n",
       "       1.02200093, 0.90664274, 0.80128455, 0.70592636, 0.62056817,\n",
       "       1.22748274, 1.09213817, 0.96679359, 0.85144902, 0.74610444,\n",
       "       0.65075987, 0.56541529, 0.49007072, 0.42472615, 0.36938157,\n",
       "       0.324037  , 0.71564894, 0.62031798, 0.53498702, 0.45965607,\n",
       "       0.39432511, 0.33899415, 0.29366319, 0.25833224, 0.23300128,\n",
       "       0.21767032, 0.21233936, 0.38864867, 0.33333133, 0.28801399,\n",
       "       0.25269665, 0.22737931, 0.21206197, 0.20674463, 0.21142729,\n",
       "       0.22610995, 0.25079261, 0.28547527, 0.24648194, 0.23117822,\n",
       "       0.2258745 , 0.23057077, 0.24526705, 0.26996333, 0.3046596 ,\n",
       "       0.34935588, 0.40405216, 0.46874843, 0.54344471, 0.28914875,\n",
       "       0.31385865, 0.34856854, 0.39327843, 0.44798833, 0.51269822,\n",
       "       0.58740811, 0.67211801, 0.7668279 , 0.8715378 , 0.98624769,\n",
       "       0.5166491 , 0.58137261, 0.65609612, 0.74081963, 0.83554314,\n",
       "       0.94026665, 1.05499016, 1.17971367, 1.31443718, 1.45916069,\n",
       "       1.6138842 ])"
      ]
     },
     "execution_count": 369,
     "metadata": {},
     "output_type": "execute_result"
    }
   ],
   "source": [
    "costs = np.zeros(121)\n",
    "for i in range(121):\n",
    "    costs[i] = calculateCostArray(X_sqft_scaled, y_scaled_further, i)\n",
    "costs"
   ]
  },
  {
   "cell_type": "code",
   "execution_count": 370,
   "metadata": {},
   "outputs": [
    {
     "data": {
      "text/plain": [
       "(121,)"
      ]
     },
     "execution_count": 370,
     "metadata": {},
     "output_type": "execute_result"
    }
   ],
   "source": [
    "costs.shape"
   ]
  },
  {
   "cell_type": "code",
   "execution_count": 371,
   "metadata": {},
   "outputs": [
    {
     "data": {
      "text/plain": [
       "array([[6.55915481, 6.22374215, 5.89832949, 5.58291683, 5.27750417,\n",
       "        4.98209151, 4.69667885, 4.42126619, 4.15585353, 3.90044087,\n",
       "        3.65502821],\n",
       "       [5.12315332, 4.82775428, 4.54235524, 4.2669562 , 4.00155715,\n",
       "        3.74615811, 3.50075907, 3.26536002, 3.03996098, 2.82456194,\n",
       "        2.6191629 ],\n",
       "       [3.87198537, 3.61659995, 3.37121452, 3.1358291 , 2.91044367,\n",
       "        2.69505824, 2.48967282, 2.29428739, 2.10890197, 1.93351654,\n",
       "        1.76813112],\n",
       "       [2.80565096, 2.59027915, 2.38490734, 2.18953553, 2.00416372,\n",
       "        1.82879192, 1.66342011, 1.5080483 , 1.36267649, 1.22730468,\n",
       "        1.10193287],\n",
       "       [1.92415008, 1.74879189, 1.5834337 , 1.42807551, 1.28271732,\n",
       "        1.14735912, 1.02200093, 0.90664274, 0.80128455, 0.70592636,\n",
       "        0.62056817],\n",
       "       [1.22748274, 1.09213817, 0.96679359, 0.85144902, 0.74610444,\n",
       "        0.65075987, 0.56541529, 0.49007072, 0.42472615, 0.36938157,\n",
       "        0.324037  ],\n",
       "       [0.71564894, 0.62031798, 0.53498702, 0.45965607, 0.39432511,\n",
       "        0.33899415, 0.29366319, 0.25833224, 0.23300128, 0.21767032,\n",
       "        0.21233936],\n",
       "       [0.38864867, 0.33333133, 0.28801399, 0.25269665, 0.22737931,\n",
       "        0.21206197, 0.20674463, 0.21142729, 0.22610995, 0.25079261,\n",
       "        0.28547527],\n",
       "       [0.24648194, 0.23117822, 0.2258745 , 0.23057077, 0.24526705,\n",
       "        0.26996333, 0.3046596 , 0.34935588, 0.40405216, 0.46874843,\n",
       "        0.54344471],\n",
       "       [0.28914875, 0.31385865, 0.34856854, 0.39327843, 0.44798833,\n",
       "        0.51269822, 0.58740811, 0.67211801, 0.7668279 , 0.8715378 ,\n",
       "        0.98624769],\n",
       "       [0.5166491 , 0.58137261, 0.65609612, 0.74081963, 0.83554314,\n",
       "        0.94026665, 1.05499016, 1.17971367, 1.31443718, 1.45916069,\n",
       "        1.6138842 ]])"
      ]
     },
     "execution_count": 371,
     "metadata": {},
     "output_type": "execute_result"
    }
   ],
   "source": [
    "costs = costs.reshape(11, 11, -1)\n",
    "costs = costs.squeeze()\n",
    "costs"
   ]
  },
  {
   "cell_type": "code",
   "execution_count": 372,
   "metadata": {},
   "outputs": [
    {
     "data": {
      "text/plain": [
       "(11, 11)"
      ]
     },
     "execution_count": 372,
     "metadata": {},
     "output_type": "execute_result"
    }
   ],
   "source": [
    "costs.shape"
   ]
  },
  {
   "cell_type": "code",
   "execution_count": 373,
   "metadata": {},
   "outputs": [
    {
     "data": {
      "text/plain": [
       "<matplotlib.contour.QuadContourSet at 0x1d86f1519a0>"
      ]
     },
     "execution_count": 373,
     "metadata": {},
     "output_type": "execute_result"
    },
    {
     "data": {
      "image/png": "[encoded data removed]",
      "text/plain": [
       "<Figure size 432x288 with 1 Axes>"
      ]
     },
     "metadata": {
      "needs_background": "light"
     },
     "output_type": "display_data"
    }
   ],
   "source": [
    "plt.imshow(costs, extent=(w1.min(), w1.max(), w2.min(), w2.max()))\n",
    "plt.gca().set_aspect('equal')\n",
    "plt.contour(w1, w2, costs, colors='white', linestyles=':')"
   ]
  },
  {
   "cell_type": "code",
   "execution_count": 384,
   "metadata": {},
   "outputs": [
    {
     "data": {
      "text/plain": [
       "<matplotlib.contour.QuadContourSet at 0x1d87063a670>"
      ]
     },
     "execution_count": 384,
     "metadata": {},
     "output_type": "execute_result"
    },
    {
     "data": {
      "image/png": "[encoded data removed]",
      "text/plain": [
       "<Figure size 432x288 with 2 Axes>"
      ]
     },
     "metadata": {
      "needs_background": "light"
     },
     "output_type": "display_data"
    }
   ],
   "source": [
    "plt.imshow(costs, origin='lower', extent=(w1.min(), w1.max(), w2.min(), w2.max()))\n",
    "\n",
    "#     sugar\n",
    "plt.colorbar()\n",
    "plt.xlabel('$w_0$')\n",
    "plt.ylabel('$w_1$')\n",
    "plt.title('Plot of $cost(\\\\mathbf{w})$')\n",
    "# plt.gca().set_aspect('equal')  # Force the x and y axes to scale\n",
    "\n",
    "plt.contour(w1, w2, costs, colors='white', linestyles=':')\n",
    "\n"
   ]
  },
  {
   "cell_type": "markdown",
   "metadata": {},
   "source": [
    "#### finally works.. "
   ]
  },
  {
   "cell_type": "code",
   "execution_count": null,
   "metadata": {},
   "outputs": [],
   "source": []
  },
  {
   "cell_type": "markdown",
   "metadata": {},
   "source": [
    "##### errors below"
   ]
  },
  {
   "cell_type": "markdown",
   "metadata": {},
   "source": [
    "#### for new guesses"
   ]
  },
  {
   "cell_type": "code",
   "execution_count": 144,
   "metadata": {},
   "outputs": [],
   "source": [
    "# normalize(X_sqft[:, 1])"
   ]
  },
  {
   "cell_type": "code",
   "execution_count": 334,
   "metadata": {},
   "outputs": [],
   "source": [
    "steps0 = np.linspace(70, 75, 51)\n",
    "# steps0"
   ]
  },
  {
   "cell_type": "code",
   "execution_count": 335,
   "metadata": {},
   "outputs": [],
   "source": [
    "steps1 = np.linspace(130, 135, 51)\n",
    "# steps1"
   ]
  },
  {
   "cell_type": "code",
   "execution_count": 336,
   "metadata": {},
   "outputs": [
    {
     "data": {
      "text/plain": [
       "(51, 51)"
      ]
     },
     "execution_count": 336,
     "metadata": {},
     "output_type": "execute_result"
    }
   ],
   "source": [
    "w1, w2 = np.meshgrid(steps0, steps1)\n",
    "w1.shape"
   ]
  },
  {
   "cell_type": "code",
   "execution_count": 337,
   "metadata": {},
   "outputs": [],
   "source": [
    "#w1"
   ]
  },
  {
   "cell_type": "code",
   "execution_count": 338,
   "metadata": {},
   "outputs": [],
   "source": [
    "# w2"
   ]
  },
  {
   "cell_type": "code",
   "execution_count": 339,
   "metadata": {
    "scrolled": true
   },
   "outputs": [
    {
     "data": {
      "text/plain": [
       "array([[ 70. , 130. ],\n",
       "       [ 70.1, 130. ],\n",
       "       [ 70.2, 130. ],\n",
       "       ...,\n",
       "       [ 74.8, 135. ],\n",
       "       [ 74.9, 135. ],\n",
       "       [ 75. , 135. ]])"
      ]
     },
     "execution_count": 339,
     "metadata": {},
     "output_type": "execute_result"
    }
   ],
   "source": [
    "w1_ = w1.ravel()\n",
    "w2_ = w2.ravel()\n",
    "w = np.column_stack([w1_, w2_])\n",
    "w"
   ]
  },
  {
   "cell_type": "code",
   "execution_count": 340,
   "metadata": {},
   "outputs": [
    {
     "data": {
      "text/plain": [
       "(2601, 2)"
      ]
     },
     "execution_count": 340,
     "metadata": {},
     "output_type": "execute_result"
    }
   ],
   "source": [
    "w.shape"
   ]
  },
  {
   "cell_type": "code",
   "execution_count": 341,
   "metadata": {},
   "outputs": [],
   "source": [
    "def calculateCostArray(X, y, i):\n",
    "    return computeCost(X, y, w[i])"
   ]
  },
  {
   "cell_type": "code",
   "execution_count": 342,
   "metadata": {},
   "outputs": [],
   "source": [
    "def computeCost(X, y, w):\n",
    "    t = X @ w - y\n",
    "    t_squared = t * t   # vectorized. element wise squaring\n",
    "    cost = 1/(2*len(X)) * sum(t_squared)\n",
    "    return cost"
   ]
  },
  {
   "cell_type": "code",
   "execution_count": 343,
   "metadata": {},
   "outputs": [
    {
     "data": {
      "text/plain": [
       "array([2117.75571178, 2116.72829688, 2115.71088199, ..., 2068.23425114,\n",
       "       2068.68717667, 2069.1501022 ])"
      ]
     },
     "execution_count": 343,
     "metadata": {},
     "output_type": "execute_result"
    }
   ],
   "source": [
    "costs = np.zeros(2601)\n",
    "for i in range(len(w)):\n",
    "    costs[i] = calculateCostArray(X_sqft_scaled, y_scaled, i)\n",
    "costs"
   ]
  },
  {
   "cell_type": "code",
   "execution_count": 344,
   "metadata": {},
   "outputs": [
    {
     "data": {
      "text/plain": [
       "<matplotlib.contour.QuadContourSet at 0x1d86f080bb0>"
      ]
     },
     "execution_count": 344,
     "metadata": {},
     "output_type": "execute_result"
    },
    {
     "data": {
      "image/png": "[encoded data removed]",
      "text/plain": [
       "<Figure size 432x288 with 1 Axes>"
      ]
     },
     "metadata": {
      "needs_background": "light"
     },
     "output_type": "display_data"
    }
   ],
   "source": [
    "costs = costs.reshape(51, 51, -1)\n",
    "costs = costs.squeeze()\n",
    "plt.imshow(costs, extent=(w1.min(), w1.max(), w2.min(), w2.max()))\n",
    "plt.gca().set_aspect('equal')\n",
    "plt.contour(w1, w2, costs, colors='white', linestyles=':')"
   ]
  },
  {
   "cell_type": "markdown",
   "metadata": {},
   "source": [
    "##### function writing area for ex1, code won't work for this notebook"
   ]
  },
  {
   "cell_type": "code",
   "execution_count": null,
   "metadata": {},
   "outputs": [],
   "source": [
    "def plot():  # don't execute this\n",
    "    steps0 = np.linspace(-10, 10, 11)\n",
    "    steps1 = np.linspace(-1, 4, 11)\n",
    "    w1, w2 = np.meshgrid(steps0, steps1)\n",
    "    w1_ = w1.ravel()\n",
    "    w2_ = w2.ravel()\n",
    "    w = np.column_stack([w1_, w2_])\n",
    "    costs = np.zeros(121)\n",
    "\n",
    "    for i in range(121):\n",
    "        costs[i] = calculateCostArray(X, y, i)\n",
    "\n",
    "    costs = costs.reshape(11, 11, -1)\n",
    "    costs = costs.squeeze()\n",
    "\n",
    "    plt.imshow(costs, extent=(w1.min(), w1.max(), w2.min(), w2.max()))\n",
    "    plt.gca().set_aspect('equal')\n",
    "    plt.contour(w1, w2, costs, colors='white', linestyles=':')"
   ]
  }
 ],
 "metadata": {
  "kernelspec": {
   "display_name": "Python 3",
   "language": "python",
   "name": "python3"
  },
  "language_info": {
   "codemirror_mode": {
    "name": "ipython",
    "version": 3
   },
   "file_extension": ".py",
   "mimetype": "text/x-python",
   "name": "python",
   "nbconvert_exporter": "python",
   "pygments_lexer": "ipython3",
   "version": "3.8.3"
  }
 },
 "nbformat": 4,
 "nbformat_minor": 4
}
